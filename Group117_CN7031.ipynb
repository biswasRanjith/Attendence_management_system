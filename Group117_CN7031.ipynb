{
  "cells": [
    {
      "cell_type": "markdown",
      "metadata": {
        "id": "view-in-github",
        "colab_type": "text"
      },
      "source": [
        "<a href=\"https://colab.research.google.com/github/biswasRanjith/Attendence_management_system/blob/master/Group117_CN7031.ipynb\" target=\"_parent\"><img src=\"https://colab.research.google.com/assets/colab-badge.svg\" alt=\"Open In Colab\"/></a>"
      ]
    },
    {
      "cell_type": "markdown",
      "metadata": {
        "id": "twA-8_h8spGk"
      },
      "source": [
        "# **Big Data Analytics [CN7031] CRWK 2024-25**\n",
        "---\n",
        "# **Group ID: [117]**\n",
        "1.   Student 1: Ranjith Biswas and 2729781\n",
        "2.   Student 2: Krupa Shivanna and 2782017\n",
        "3.   Student 3: Ragini and ID\n",
        "4.   Student 4: Pavani and ID\n",
        "\n",
        "# **Introduction**\n",
        "\n",
        "lets write some intriduction of the data set and about the course work here.\n",
        "\n",
        "\n",
        "---\n",
        "# **Initiate and Configure Spark**\n",
        "\n",
        "write some lines on pre-requisites and librabries required and their functionalities."
      ]
    },
    {
      "cell_type": "code",
      "execution_count": 33,
      "metadata": {
        "colab": {
          "base_uri": "https://localhost:8080/"
        },
        "id": "SkaH4dj6s1zn",
        "outputId": "0ea70700-3569-4f8f-f058-764edd06a2a0"
      },
      "outputs": [
        {
          "output_type": "stream",
          "name": "stdout",
          "text": [
            "Python 3.10.12\n"
          ]
        }
      ],
      "source": [
        "#check python version\n",
        "\n",
        "!python --version"
      ]
    },
    {
      "cell_type": "code",
      "execution_count": 34,
      "metadata": {
        "colab": {
          "base_uri": "https://localhost:8080/"
        },
        "id": "rgmjCpxfuNQ2",
        "outputId": "73fc2266-9c86-4134-d220-018ee930ec57"
      },
      "outputs": [
        {
          "output_type": "stream",
          "name": "stdout",
          "text": [
            "Requirement already satisfied: pyspark in /usr/local/lib/python3.10/dist-packages (3.5.3)\n",
            "Requirement already satisfied: matplotlib in /usr/local/lib/python3.10/dist-packages (3.8.0)\n",
            "Requirement already satisfied: seaborn in /usr/local/lib/python3.10/dist-packages (0.13.2)\n",
            "Requirement already satisfied: py4j==0.10.9.7 in /usr/local/lib/python3.10/dist-packages (from pyspark) (0.10.9.7)\n",
            "Requirement already satisfied: contourpy>=1.0.1 in /usr/local/lib/python3.10/dist-packages (from matplotlib) (1.3.1)\n",
            "Requirement already satisfied: cycler>=0.10 in /usr/local/lib/python3.10/dist-packages (from matplotlib) (0.12.1)\n",
            "Requirement already satisfied: fonttools>=4.22.0 in /usr/local/lib/python3.10/dist-packages (from matplotlib) (4.55.3)\n",
            "Requirement already satisfied: kiwisolver>=1.0.1 in /usr/local/lib/python3.10/dist-packages (from matplotlib) (1.4.7)\n",
            "Requirement already satisfied: numpy<2,>=1.21 in /usr/local/lib/python3.10/dist-packages (from matplotlib) (1.26.4)\n",
            "Requirement already satisfied: packaging>=20.0 in /usr/local/lib/python3.10/dist-packages (from matplotlib) (24.2)\n",
            "Requirement already satisfied: pillow>=6.2.0 in /usr/local/lib/python3.10/dist-packages (from matplotlib) (11.0.0)\n",
            "Requirement already satisfied: pyparsing>=2.3.1 in /usr/local/lib/python3.10/dist-packages (from matplotlib) (3.2.0)\n",
            "Requirement already satisfied: python-dateutil>=2.7 in /usr/local/lib/python3.10/dist-packages (from matplotlib) (2.8.2)\n",
            "Requirement already satisfied: pandas>=1.2 in /usr/local/lib/python3.10/dist-packages (from seaborn) (2.2.2)\n",
            "Requirement already satisfied: pytz>=2020.1 in /usr/local/lib/python3.10/dist-packages (from pandas>=1.2->seaborn) (2024.2)\n",
            "Requirement already satisfied: tzdata>=2022.7 in /usr/local/lib/python3.10/dist-packages (from pandas>=1.2->seaborn) (2024.2)\n",
            "Requirement already satisfied: six>=1.5 in /usr/local/lib/python3.10/dist-packages (from python-dateutil>=2.7->matplotlib) (1.17.0)\n"
          ]
        }
      ],
      "source": [
        "#Install Required Libraries\n",
        "\n",
        "!pip install pyspark matplotlib seaborn\n"
      ]
    },
    {
      "cell_type": "code",
      "execution_count": 35,
      "metadata": {
        "id": "F-JnPw3SufOQ"
      },
      "outputs": [],
      "source": [
        "# Import necessary libraries\n",
        "from pyspark.sql import SparkSession\n",
        "from pyspark.sql.functions import regexp_extract, col, split, round as sql_round\n",
        "from pyspark.sql.types import StructType, StructField, StringType\n",
        "import matplotlib.pyplot as plt\n",
        "import seaborn as sns\n",
        "import pandas as pd\n",
        "import re"
      ]
    },
    {
      "cell_type": "code",
      "execution_count": 36,
      "metadata": {
        "id": "Px05tWeCurFZ"
      },
      "outputs": [],
      "source": [
        "# Initialize SparkSession\n",
        "spark = SparkSession.builder \\\n",
        "    .appName(\"LogProcessingAndVisualization\") \\\n",
        "    .getOrCreate()"
      ]
    },
    {
      "cell_type": "markdown",
      "metadata": {
        "id": "y3Y0pCW8vy9b"
      },
      "source": [
        "---\n",
        "# **Load Unstructured Data**\n",
        "\n",
        "write a line on loading the data set file into google collab. Load log data into an RDD"
      ]
    },
    {
      "cell_type": "code",
      "execution_count": 37,
      "metadata": {
        "id": "cNo2vcALv7El"
      },
      "outputs": [],
      "source": [
        "# Define log file path (update with your actual file path)\n",
        "log_data_file = \"/content/web.log\"\n",
        "\n",
        "#  Load log data into an RDD\n",
        "rdd_log_data = spark.sparkContext.textFile(log_data_file)"
      ]
    },
    {
      "cell_type": "markdown",
      "metadata": {
        "id": "Qof7Gptsw_fx"
      },
      "source": [
        "---\n",
        "# **Task 1: Data Processing using PySpark DF**\n",
        "\n",
        "write few lines about the regex ,\n",
        "DF Creation with REGEX,\n",
        "Two advanced DF Analysis,\n",
        "Utilize data visualization, basically how the data processing is done and regex pattern used\n",
        "\n",
        "write opnion on teams pov.\n",
        "\n",
        "\n",
        "**DF Creation with REGEX**\n",
        "\n",
        "Ranjith Biswas - 2729781"
      ]
    },
    {
      "cell_type": "code",
      "execution_count": 9,
      "metadata": {
        "colab": {
          "base_uri": "https://localhost:8080/"
        },
        "id": "QFMLBN6FxO2C",
        "outputId": "e7e84343-c8b0-4437-8325-9a4fbc2114dc"
      },
      "outputs": [
        {
          "output_type": "stream",
          "name": "stdout",
          "text": [
            "Schema for Student 1:\n",
            "root\n",
            " |-- ip: string (nullable = true)\n",
            " |-- timestamp: string (nullable = true)\n",
            " |-- request: string (nullable = true)\n",
            " |-- status: string (nullable = true)\n",
            " |-- response_size: string (nullable = true)\n",
            " |-- message: string (nullable = true)\n",
            " |-- method: string (nullable = true)\n",
            "\n",
            "Top 10 rows for Student 1:\n",
            "+--------------+--------------------+-----------------------------------------+------+-------------+--------------------------------------------------------------+------+\n",
            "|ip            |timestamp           |request                                  |status|response_size|message                                                       |method|\n",
            "+--------------+--------------------+-----------------------------------------+------+-------------+--------------------------------------------------------------+------+\n",
            "|88.211.105.115|04/Mar/2022:14:17:48|POST /history/missions/ HTTP/2.0         |414   |12456        |Caution: System may require attention. Check logs for details.|POST  |\n",
            "|144.6.49.142  |02/Sep/2022:15:16:00|POST /security/firewall/ HTTPS/1.0       |203   |97126        |Warning: Unusual behavior detected. Investigate further.      |POST  |\n",
            "|231.70.64.145 |19/Jul/2022:01:31:31|PUT /web-development/countdown/ HTTP/1.0 |201   |33093        |Informational message. No action required.                    |PUT   |\n",
            "|219.42.234.172|08/Feb/2022:11:34:57|POST /networking/technology/ HTTP/1.0    |415   |68827        |Debug: Detailed system state information.                     |POST  |\n",
            "|183.173.185.94|29/Aug/2023:03:07:11|GET /security/firewall/ HTTP/2.0         |205   |30374        |Warning: Unusual behavior detected. Investigate further.      |GET   |\n",
            "|164.12.8.113  |22/May/2023:09:48:25|GET /web-development/technology/ HTTP/1.0|200   |14633        |Informational message. No action required.                    |GET   |\n",
            "|110.98.7.240  |22/Jan/2023:09:55:54|PUT /history/apollo/ HTTP/2.0            |204   |63819        |Debug: Detailed system state information.                     |PUT   |\n",
            "|27.182.196.243|28/Mar/2022:05:37:59|GET /history/apollo-11/ HTTPS/1.0        |414   |93885        |Caution: System may require attention. Check logs for details.|GET   |\n",
            "|123.31.25.147 |25/Feb/2023:12:03:32|GET /data-analysis/missions/ HTTP/1.0    |204   |75897        |Developer Note: Debug logs for troubleshooting.               |GET   |\n",
            "|220.182.78.75 |22/Dec/2022:12:55:00|GET /history/launch/ HTTP/2.0            |200   |84446        |Debugging information. For developer reference only.          |GET   |\n",
            "+--------------+--------------------+-----------------------------------------+------+-------------+--------------------------------------------------------------+------+\n",
            "only showing top 10 rows\n",
            "\n"
          ]
        }
      ],
      "source": [
        "# Function to define schemas and extract data.\n",
        "def extract_data_with_schema(log_pattern, schema_fields):\n",
        "    def parse_line(line):\n",
        "        match = re.match(log_pattern, line)\n",
        "        return match.groups() if match else None\n",
        "\n",
        "    parsed_rdd = rdd_log_data.map(parse_line).filter(lambda x: x is not None)\n",
        "    schema = StructType([StructField(field, StringType(), True) for field in schema_fields])\n",
        "    return spark.createDataFrame(parsed_rdd, schema=schema)\n",
        "\n",
        "# Extracting IP, Timestamp, request, status, response_size, message and method\n",
        "student_1_pattern = r'(\\d{1,3}\\.\\d{1,3}\\.\\d{1,3}\\.\\d{1,3}) - - \\[(.*?)\\] \\\"(.*?)\\\" (\\d{3}) (\\d+|-) (.*)'\n",
        "student_1_fields = [\"ip\", \"timestamp\", \"request\", \"status\", \"response_size\", \"message\"]\n",
        "student_1_df = extract_data_with_schema(student_1_pattern, student_1_fields)\n",
        "student_1_df = student_1_df.withColumn(\"method\", regexp_extract(\"request\", r'^(GET|POST|PUT|DELETE)', 1))\n",
        "student_1_df.createOrReplaceTempView(\"student_1_logs\")\n",
        "print(\"Schema for Student 1:\")\n",
        "student_1_df.printSchema()\n",
        "print(\"Top 10 rows for Student 1:\")\n",
        "student_1_df.show(10, truncate=False)\n",
        "\n",
        "\n",
        "\n",
        "# # Step 6: Define REGEX and detect schema dynamically\n",
        "# def detect_schema(data_lines):\n",
        "\n",
        "#     log_pattern = r'(\\d{1,3}\\.\\d{1,3}\\.\\d{1,3}\\.\\d{1,3}) - - \\[(.*?)\\] \\\"(.*?)\\\" (\\d{3}) (\\d+|-) (.*)'\n",
        "#     schema_fields = [\"ip\", \"timestamp\", \"request\", \"status\", \"response_size\", \"message\"]\n",
        "#     for line in data_lines:\n",
        "#         match = re.match(log_pattern, line)\n",
        "#         if match:\n",
        "#             detected_schema = match.groups()\n",
        "#             print(\"Detected Schema: \", schema_fields)\n",
        "#             return schema_fields\n",
        "#     return []\n",
        "\n",
        "# # Detect schema using the first few lines of the log file\n",
        "# data_lines = rdd_log_data.take(15)\n",
        "# schema_fields = detect_schema(data_lines)\n",
        "\n",
        "# # Step 7: Parse log data using REGEX\n",
        "# def parse_log(line):\n",
        "#     log_pattern = r'(\\d{1,3}\\.\\d{1,3}\\.\\d{1,3}\\.\\d{1,3}) - - \\[(.*?)\\] \\\"(.*?)\\\" (\\d{3}) (\\d+|-) (.*)'\n",
        "#     match = re.match(log_pattern, line)\n",
        "#     if match:\n",
        "#         return match.groups()\n",
        "#     else:\n",
        "#         return None\n",
        "\n",
        "# # Apply parsing function to the RDD and filter out invalid lines\n",
        "# parsed_rdd = rdd_log_data.map(parse_log).filter(lambda x: x is not None)\n",
        "\n",
        "# # Step 8: Define the schema for the DataFrame dynamically\n",
        "# schema = StructType([StructField(field, StringType(), True) for field in schema_fields])\n",
        "\n",
        "# # Create DataFrame from parsed RDD\n",
        "# log_df = spark.createDataFrame(parsed_rdd, schema=schema)\n",
        "\n",
        "# # Step 9: Extract additional fields (HTTP method and URL)\n",
        "# log_df = log_df.withColumn(\"method\", regexp_extract(\"request\", r'^(GET|POST|PUT|DELETE)', 1)) \\\n",
        "#                .withColumn(\"url\", regexp_extract(\"request\", r'^(GET|POST|PUT|DELETE) (.*?) HTTP', 2))\n",
        "\n",
        "# # Step 10: Display the schema and DataFrame\n",
        "# log_df.printSchema()\n",
        "# log_df.show(truncate=False)\n"
      ]
    },
    {
      "cell_type": "markdown",
      "metadata": {
        "id": "9LvlGCnZV_Zn"
      },
      "source": [
        "**Advanced DF Analysis**\n",
        "\n"
      ]
    },
    {
      "cell_type": "code",
      "execution_count": 10,
      "metadata": {
        "colab": {
          "base_uri": "https://localhost:8080/",
          "height": 664
        },
        "id": "ZvZwZ-MnV0we",
        "outputId": "01c3028e-f1cd-4a9b-9d45-076df3dd7f40"
      },
      "outputs": [
        {
          "output_type": "stream",
          "name": "stdout",
          "text": [
            "+------+-------+\n",
            "|method|  count|\n",
            "+------+-------+\n",
            "|   GET|1001043|\n",
            "|  POST|1000505|\n",
            "|   PUT| 998452|\n",
            "+------+-------+\n",
            "\n"
          ]
        },
        {
          "output_type": "display_data",
          "data": {
            "text/plain": [
              "<Figure size 800x600 with 1 Axes>"
            ],
            "image/png": "[encoded data removed]"
          },
          "metadata": {}
        }
      ],
      "source": [
        "# Query 1: HTTP Method distribution\n",
        "query_1_result = spark.sql(\"\"\"\n",
        "SELECT method, COUNT(*) AS count\n",
        "FROM student_1_logs\n",
        "GROUP BY method\n",
        "ORDER BY count DESC\n",
        "\"\"\")\n",
        "\n",
        "query_1_result.show()\n",
        "\n",
        "query_1_pd = query_1_result.toPandas()\n",
        "plt.figure(figsize=(8, 6))\n",
        "plt.pie(query_1_pd['count'], labels=query_1_pd['method'], autopct='%1.1f%%', startangle=140, colors=sns.color_palette(\"viridis\", len(query_1_pd)))\n",
        "plt.title(\"Student 1: Request Distribution by HTTP Method\")\n",
        "plt.show()"
      ]
    },
    {
      "cell_type": "markdown",
      "metadata": {
        "id": "0RmypCMGj0R7"
      },
      "source": [
        "This query can help:\n",
        "\n",
        "Identify periods of unusually high or low activity in terms of unique visitors.\n",
        "Detect potential anomalies like Distributed Denial of Service (DDoS) attacks if the unique IP count suddenly spikes.\n",
        "Provide insights into user engagement patterns over the day, which could guide marketing or operational strategies."
      ]
    },
    {
      "cell_type": "code",
      "execution_count": 11,
      "metadata": {
        "colab": {
          "base_uri": "https://localhost:8080/",
          "height": 1000
        },
        "id": "_C6aoVHseBaK",
        "outputId": "9026704e-6c0f-42f0-f13d-858754da3d4e"
      },
      "outputs": [
        {
          "output_type": "stream",
          "name": "stdout",
          "text": [
            "+----+-------------+\n",
            "|hour|request_count|\n",
            "+----+-------------+\n",
            "|  00|       125373|\n",
            "|  01|       124866|\n",
            "|  02|       125019|\n",
            "|  03|       124947|\n",
            "|  04|       125239|\n",
            "|  05|       125049|\n",
            "|  06|       125200|\n",
            "|  07|       124930|\n",
            "|  08|       124976|\n",
            "|  09|       125056|\n",
            "|  10|       124963|\n",
            "|  11|       124603|\n",
            "|  12|       124817|\n",
            "|  13|       124634|\n",
            "|  14|       125461|\n",
            "|  15|       125812|\n",
            "|  16|       125191|\n",
            "|  17|       124644|\n",
            "|  18|       124872|\n",
            "|  19|       124683|\n",
            "+----+-------------+\n",
            "only showing top 20 rows\n",
            "\n"
          ]
        },
        {
          "output_type": "display_data",
          "data": {
            "text/plain": [
              "<Figure size 1000x600 with 1 Axes>"
            ],
            "image/png": "[encoded data removed]"
          },
          "metadata": {}
        }
      ],
      "source": [
        "query_1_requests_by_hour = spark.sql(\"\"\"\n",
        "SELECT\n",
        "    substring(timestamp, 13, 2) AS hour,\n",
        "    COUNT(*) AS request_count\n",
        "FROM student_1_logs\n",
        "GROUP BY hour\n",
        "ORDER BY hour\n",
        "\"\"\")\n",
        "\n",
        "query_1_requests_by_hour.show()\n",
        "\n",
        "# Convert query result to Pandas DataFrame for visualization\n",
        "query_1_requests_by_hour_pd = query_1_requests_by_hour.toPandas()\n",
        "\n",
        "# Line Graph Visualization\n",
        "plt.figure(figsize=(10, 6))\n",
        "plt.plot(query_1_requests_by_hour_pd['hour'], query_1_requests_by_hour_pd['request_count'], marker='o', linestyle='-', color='green')\n",
        "plt.title(\"Student 1: Trend of Requests Over Time (Grouped by Hour)\")\n",
        "plt.xlabel(\"Hour of the Day\")\n",
        "plt.ylabel(\"Request Count\")\n",
        "plt.xticks(rotation=45, ha=\"right\")\n",
        "plt.grid(True)\n",
        "plt.tight_layout()\n",
        "plt.show()"
      ]
    },
    {
      "cell_type": "markdown",
      "metadata": {
        "id": "2-uggA5E-8de"
      },
      "source": [
        "Krupa Shivanna - 2782017"
      ]
    },
    {
      "cell_type": "code",
      "execution_count": 12,
      "metadata": {
        "colab": {
          "base_uri": "https://localhost:8080/"
        },
        "id": "ftLWm_Su_Rt2",
        "outputId": "364bd595-5dd3-4a0e-939f-dd182f2d860a"
      },
      "outputs": [
        {
          "output_type": "stream",
          "name": "stdout",
          "text": [
            "Schema for Student 2:\n",
            "root\n",
            " |-- ip: string (nullable = true)\n",
            " |-- timestamp: string (nullable = true)\n",
            " |-- url: string (nullable = true)\n",
            "\n",
            "Top 10 rows for Student 2:\n",
            "+--------------+--------------------+----------------------------+\n",
            "|ip            |timestamp           |url                         |\n",
            "+--------------+--------------------+----------------------------+\n",
            "|88.211.105.115|04/Mar/2022:14:17:48|/history/missions/          |\n",
            "|144.6.49.142  |02/Sep/2022:15:16:00|/security/firewall/         |\n",
            "|231.70.64.145 |19/Jul/2022:01:31:31|/web-development/countdown/ |\n",
            "|219.42.234.172|08/Feb/2022:11:34:57|/networking/technology/     |\n",
            "|183.173.185.94|29/Aug/2023:03:07:11|/security/firewall/         |\n",
            "|164.12.8.113  |22/May/2023:09:48:25|/web-development/technology/|\n",
            "|110.98.7.240  |22/Jan/2023:09:55:54|/history/apollo/            |\n",
            "|27.182.196.243|28/Mar/2022:05:37:59|/history/apollo-11/         |\n",
            "|123.31.25.147 |25/Feb/2023:12:03:32|/data-analysis/missions/    |\n",
            "|220.182.78.75 |22/Dec/2022:12:55:00|/history/launch/            |\n",
            "+--------------+--------------------+----------------------------+\n",
            "only showing top 10 rows\n",
            "\n"
          ]
        }
      ],
      "source": [
        "# Extracting Timestamp, Status, and Response Size\n",
        "\n",
        "student_2_pattern = r'(\\d{1,3}\\.\\d{1,3}\\.\\d{1,3}\\.\\d{1,3}) - - \\[(.*?)\\] \\\".* (.*?) HTTP.*\"'\n",
        "student_2_fields = [\"ip\", \"timestamp\", \"url\"]\n",
        "student_2_df = extract_data_with_schema(student_2_pattern, student_2_fields)\n",
        "student_2_df.createOrReplaceTempView(\"student_2_logs\")\n",
        "print(\"Schema for Student 2:\")\n",
        "student_2_df.printSchema()\n",
        "print(\"Top 10 rows for Student 2:\")\n",
        "student_2_df.show(10, truncate=False)"
      ]
    },
    {
      "cell_type": "markdown",
      "metadata": {
        "id": "ZFi3nHUNe_j6"
      },
      "source": [
        "**Advanced DF Analysis**"
      ]
    },
    {
      "cell_type": "code",
      "execution_count": 13,
      "metadata": {
        "colab": {
          "base_uri": "https://localhost:8080/",
          "height": 875
        },
        "id": "vhPoAgE3fMwJ",
        "outputId": "5e3d5f6c-adeb-495c-a50e-047d17c132e8"
      },
      "outputs": [
        {
          "output_type": "stream",
          "name": "stdout",
          "text": [
            "+--------------------+-------------+\n",
            "|                 url|request_count|\n",
            "+--------------------+-------------+\n",
            "| /history/apollo-11/|        24565|\n",
            "|/web-development/...|        24648|\n",
            "|/data-analysis/aw...|        24686|\n",
            "|/machine-learning...|        24690|\n",
            "|/web-development/...|        24719|\n",
            "|   /images/firewall/|        24733|\n",
            "|/cloud-computing/...|        24735|\n",
            "|/machine-learning...|        24737|\n",
            "|/web-development/...|        24742|\n",
            "|   /software/apollo/|        24746|\n",
            "+--------------------+-------------+\n",
            "\n"
          ]
        },
        {
          "output_type": "display_data",
          "data": {
            "text/plain": [
              "<Figure size 1000x600 with 1 Axes>"
            ],
            "image/png": "[encoded data removed]"
          },
          "metadata": {}
        }
      ],
      "source": [
        "query_3_result = spark.sql(\"\"\"\n",
        "SELECT url, COUNT(*) AS request_count\n",
        "FROM student_2_logs\n",
        "GROUP BY url\n",
        "ORDER BY request_count ASC\n",
        "LIMIT 10\n",
        "\"\"\")\n",
        "\n",
        "query_3_result.show()\n",
        "\n",
        "query_3_pd = query_3_result.toPandas()\n",
        "plt.figure(figsize=(10, 6))\n",
        "plt.plot(query_3_pd['url'], query_3_pd['request_count'], marker='o', linestyle='-', color='b')\n",
        "plt.title(\"Student 3: Least 10 Requested URLs\")\n",
        "plt.xlabel(\"URL\")\n",
        "plt.ylabel(\"Request Count\")\n",
        "plt.xticks(rotation=45, ha=\"right\")\n",
        "plt.tight_layout()\n",
        "plt.show()"
      ]
    },
    {
      "cell_type": "code",
      "execution_count": 14,
      "metadata": {
        "colab": {
          "base_uri": "https://localhost:8080/",
          "height": 1000
        },
        "id": "0PRpnYm9kJuM",
        "outputId": "78388063-743c-4475-f5d8-ed0cc6b55c77"
      },
      "outputs": [
        {
          "output_type": "stream",
          "name": "stdout",
          "text": [
            "+---------------+----------------+\n",
            "|             ip|unique_url_count|\n",
            "+---------------+----------------+\n",
            "|  34.162.74.219|               2|\n",
            "|  99.206.20.253|               2|\n",
            "|   90.93.168.28|               2|\n",
            "|  50.100.60.144|               2|\n",
            "| 211.140.93.157|               2|\n",
            "| 254.120.96.104|               2|\n",
            "|    95.73.97.42|               2|\n",
            "|  198.28.170.70|               2|\n",
            "|   77.32.147.84|               2|\n",
            "|153.191.251.249|               2|\n",
            "+---------------+----------------+\n",
            "\n"
          ]
        },
        {
          "output_type": "stream",
          "name": "stderr",
          "text": [
            "<ipython-input-14-3517802933b3>:17: FutureWarning: \n",
            "\n",
            "Passing `palette` without assigning `hue` is deprecated and will be removed in v0.14.0. Assign the `x` variable to `hue` and set `legend=False` for the same effect.\n",
            "\n",
            "  sns.barplot(\n"
          ]
        },
        {
          "output_type": "display_data",
          "data": {
            "text/plain": [
              "<Figure size 1200x800 with 1 Axes>"
            ],
            "image/png": "[encoded data removed]"
          },
          "metadata": {}
        }
      ],
      "source": [
        "query_unique_urls_per_ip = spark.sql(\"\"\"\n",
        "SELECT\n",
        "    ip,\n",
        "    COUNT(DISTINCT url) AS unique_url_count\n",
        "FROM student_2_logs\n",
        "WHERE url IS NOT NULL\n",
        "GROUP BY ip\n",
        "ORDER BY unique_url_count DESC\n",
        "LIMIT 10\n",
        "\"\"\")\n",
        "query_unique_urls_per_ip.show()\n",
        "# Convert query result to Pandas DataFrame for visualization\n",
        "query_unique_urls_per_ip_pd = query_unique_urls_per_ip.toPandas()\n",
        "\n",
        "# Bar Chart Visualization\n",
        "plt.figure(figsize=(12, 8))\n",
        "sns.barplot(\n",
        "    data=query_unique_urls_per_ip_pd,\n",
        "    x=\"ip\",\n",
        "    y=\"unique_url_count\",\n",
        "    palette=\"mako\"\n",
        ")\n",
        "plt.title(\"Student 2: Top 10 IPs by Number of Unique URLs Accessed\")\n",
        "plt.xlabel(\"IP Address\")\n",
        "plt.ylabel(\"Number of Unique URLs\")\n",
        "plt.xticks(rotation=45, ha=\"right\")\n",
        "plt.tight_layout()\n",
        "plt.show()\n"
      ]
    },
    {
      "cell_type": "markdown",
      "metadata": {
        "id": "eUPfe7gE8Y-z"
      },
      "source": [
        "Ragini - 2782017"
      ]
    },
    {
      "cell_type": "code",
      "execution_count": 15,
      "metadata": {
        "colab": {
          "base_uri": "https://localhost:8080/"
        },
        "id": "22ptBiHB_8DW",
        "outputId": "b9dd6e11-9d69-493b-f005-fd95684026d6"
      },
      "outputs": [
        {
          "output_type": "stream",
          "name": "stdout",
          "text": [
            "Schema for Student 3:\n",
            "root\n",
            " |-- ip: string (nullable = true)\n",
            " |-- status: string (nullable = true)\n",
            " |-- message: string (nullable = true)\n",
            "\n",
            "Top 10 rows for Student 3:\n",
            "+--------------+------+--------------------------------------------------------------------+\n",
            "|ip            |status|message                                                             |\n",
            "+--------------+------+--------------------------------------------------------------------+\n",
            "|88.211.105.115|414   |12456 Caution: System may require attention. Check logs for details.|\n",
            "|144.6.49.142  |203   |97126 Warning: Unusual behavior detected. Investigate further.      |\n",
            "|231.70.64.145 |201   |33093 Informational message. No action required.                    |\n",
            "|219.42.234.172|415   |68827 Debug: Detailed system state information.                     |\n",
            "|183.173.185.94|205   |30374 Warning: Unusual behavior detected. Investigate further.      |\n",
            "|164.12.8.113  |200   |14633 Informational message. No action required.                    |\n",
            "|110.98.7.240  |204   |63819 Debug: Detailed system state information.                     |\n",
            "|27.182.196.243|414   |93885 Caution: System may require attention. Check logs for details.|\n",
            "|123.31.25.147 |204   |75897 Developer Note: Debug logs for troubleshooting.               |\n",
            "|220.182.78.75 |200   |84446 Debugging information. For developer reference only.          |\n",
            "+--------------+------+--------------------------------------------------------------------+\n",
            "only showing top 10 rows\n",
            "\n"
          ]
        }
      ],
      "source": [
        "# Extracting ip, Status, and message\n",
        "student_3_pattern = r'(\\d{1,3}\\.\\d{1,3}\\.\\d{1,3}\\.\\d{1,3}) - - .* \\\".*\\\" (\\d{3}) (.*)'\n",
        "student_3_fields = [\"ip\", \"status\", \"message\"]\n",
        "student_3_df = extract_data_with_schema(student_3_pattern, student_3_fields)\n",
        "student_3_df.createOrReplaceTempView(\"student_3_logs\")\n",
        "print(\"Schema for Student 3:\")\n",
        "student_3_df.printSchema()\n",
        "print(\"Top 10 rows for Student 3:\")\n",
        "student_3_df.show(10, truncate=False)"
      ]
    },
    {
      "cell_type": "markdown",
      "metadata": {
        "id": "vlC1PuTn8cGP"
      },
      "source": [
        "Pavani - 2782017"
      ]
    },
    {
      "cell_type": "code",
      "execution_count": 16,
      "metadata": {
        "colab": {
          "base_uri": "https://localhost:8080/"
        },
        "id": "3VYttz3H8dY2",
        "outputId": "d2d20e0d-f36c-4bbd-ee49-81e7460316c2"
      },
      "outputs": [
        {
          "output_type": "stream",
          "name": "stdout",
          "text": [
            "Schema for Student 4:\n",
            "root\n",
            " |-- ip: string (nullable = true)\n",
            " |-- method: string (nullable = true)\n",
            " |-- status: string (nullable = true)\n",
            "\n",
            "Top 10 rows for Student 4:\n",
            "+--------------+------+------+\n",
            "|ip            |method|status|\n",
            "+--------------+------+------+\n",
            "|88.211.105.115|POST  |414   |\n",
            "|144.6.49.142  |POST  |203   |\n",
            "|231.70.64.145 |PUT   |201   |\n",
            "|219.42.234.172|POST  |415   |\n",
            "|183.173.185.94|GET   |205   |\n",
            "|164.12.8.113  |GET   |200   |\n",
            "|110.98.7.240  |PUT   |204   |\n",
            "|27.182.196.243|GET   |414   |\n",
            "|123.31.25.147 |GET   |204   |\n",
            "|220.182.78.75 |GET   |200   |\n",
            "+--------------+------+------+\n",
            "only showing top 10 rows\n",
            "\n"
          ]
        }
      ],
      "source": [
        "student_4_pattern = r'(\\d{1,3}\\.\\d{1,3}\\.\\d{1,3}\\.\\d{1,3}) - - .* \\\"(GET|POST|PUT|DELETE).*\\\" (\\d{3})'\n",
        "student_4_fields = [\"ip\", \"method\", \"status\"]\n",
        "student_4_df = extract_data_with_schema(student_4_pattern, student_4_fields)\n",
        "student_4_df.createOrReplaceTempView(\"student_4_logs\")\n",
        "print(\"Schema for Student 4:\")\n",
        "student_4_df.printSchema()\n",
        "print(\"Top 10 rows for Student 4:\")\n",
        "student_4_df.show(10, truncate=False)"
      ]
    },
    {
      "cell_type": "markdown",
      "metadata": {
        "id": "BlBrMdKt-pC8"
      },
      "source": [
        "\n",
        "**Advanced DF Analysis**\n",
        "\n"
      ]
    },
    {
      "cell_type": "code",
      "execution_count": 17,
      "metadata": {
        "colab": {
          "base_uri": "https://localhost:8080/",
          "height": 1000
        },
        "id": "C7g4LLS9okYT",
        "outputId": "257f823d-e368-4be1-e65a-92f804d0fe1c"
      },
      "outputs": [
        {
          "output_type": "stream",
          "name": "stdout",
          "text": [
            "+------+------+-----+\n",
            "|method|status|count|\n",
            "+------+------+-----+\n",
            "|   GET|   200|71918|\n",
            "|   GET|   202|71805|\n",
            "|   GET|   201|71783|\n",
            "|   GET|   404|71758|\n",
            "|   GET|   308|71736|\n",
            "|   GET|   205|71659|\n",
            "|   GET|   500|71475|\n",
            "|   GET|   414|71468|\n",
            "|   GET|   416|71441|\n",
            "|   GET|   415|71412|\n",
            "|   GET|   307|71364|\n",
            "|   GET|   304|71293|\n",
            "|   GET|   203|71030|\n",
            "|   GET|   204|70901|\n",
            "|  POST|   414|72077|\n",
            "|  POST|   203|71956|\n",
            "|  POST|   500|71666|\n",
            "|  POST|   404|71646|\n",
            "|  POST|   202|71542|\n",
            "|  POST|   205|71432|\n",
            "+------+------+-----+\n",
            "only showing top 20 rows\n",
            "\n"
          ]
        },
        {
          "output_type": "display_data",
          "data": {
            "text/plain": [
              "<Figure size 1200x800 with 1 Axes>"
            ],
            "image/png": "[encoded data removed]"
          },
          "metadata": {}
        }
      ],
      "source": [
        "query_methods_status = spark.sql(\"\"\"\n",
        "SELECT\n",
        "    method,\n",
        "    status,\n",
        "    COUNT(*) AS count\n",
        "FROM student_4_logs\n",
        "GROUP BY method, status\n",
        "ORDER BY method, count DESC\n",
        "\"\"\")\n",
        "query_methods_status.show()\n",
        "# Convert to Pandas DataFrame for visualization\n",
        "query_methods_status_pd = query_methods_status.toPandas()\n",
        "\n",
        "# Visualization using Seaborn\n",
        "plt.figure(figsize=(12, 8))\n",
        "sns.barplot(\n",
        "    data=query_methods_status_pd,\n",
        "    x=\"method\",\n",
        "    y=\"count\",\n",
        "    hue=\"status\",\n",
        "    palette=\"Set2\"\n",
        ")\n",
        "plt.title(\"Student 4: HTTP Methods by Status Code Count\")\n",
        "plt.xlabel(\"HTTP Method\")\n",
        "plt.ylabel(\"Count\")\n",
        "plt.legend(title=\"Status Code\")\n",
        "plt.tight_layout()\n",
        "plt.show()\n"
      ]
    },
    {
      "cell_type": "code",
      "execution_count": 28,
      "metadata": {
        "id": "8W_vYs-6_3yG",
        "colab": {
          "base_uri": "https://localhost:8080/"
        },
        "outputId": "018f8392-55ea-4e60-ca27-06f673c9af0c"
      },
      "outputs": [
        {
          "output_type": "stream",
          "name": "stdout",
          "text": [
            "+--------------------+-------------+\n",
            "|                 url|request_count|\n",
            "+--------------------+-------------+\n",
            "| /history/apollo-11/|        24565|\n",
            "|/web-development/...|        24648|\n",
            "|/data-analysis/aw...|        24686|\n",
            "|/machine-learning...|        24690|\n",
            "|/web-development/...|        24719|\n",
            "|   /images/firewall/|        24733|\n",
            "|/cloud-computing/...|        24735|\n",
            "|/machine-learning...|        24737|\n",
            "|/web-development/...|        24742|\n",
            "|   /software/apollo/|        24746|\n",
            "+--------------------+-------------+\n",
            "\n"
          ]
        }
      ],
      "source": [
        "# Least requested URLs\n",
        "query_2_result = spark.sql(\"\"\"\n",
        "SELECT url, COUNT(*) AS request_count\n",
        "FROM student_2_logs\n",
        "GROUP BY url\n",
        "ORDER BY request_count ASC\n",
        "LIMIT 10\n",
        "\"\"\")\n",
        "\n",
        "query_2_result.show()\n",
        "spark.stop()"
      ]
    },
    {
      "cell_type": "code",
      "execution_count": null,
      "metadata": {
        "colab": {
          "background_save": true,
          "base_uri": "https://localhost:8080/"
        },
        "id": "gpQrof4krQrL",
        "outputId": "fe8e3135-4764-4fab-b688-9cd60612188e"
      },
      "outputs": [
        {
          "name": "stdout",
          "output_type": "stream",
          "text": [
            "HTTP Method Counts: [('POST', 1000505), ('PUT', 998452), ('GET', 1001043)]\n",
            "Buffered data was truncated after reaching the output size limit."
          ]
        }
      ],
      "source": [
        "import re\n",
        "from pyspark.sql import SparkSession\n",
        "\n",
        "# Step 1: Initialize Spark Session\n",
        "spark = SparkSession.builder \\\n",
        "    .appName(\"RDD Log Analysis with Error Handling\") \\\n",
        "    .getOrCreate()\n",
        "\n",
        "# Step 2: Load the log file into an RDD\n",
        "log_file_path = \"/content/web.log\"  # Update with your actual log file path\n",
        "log_rdd = spark.sparkContext.textFile(log_file_path)\n",
        "\n",
        "# Step 3: Define a function to parse log entries\n",
        "def parse_log_entry(line):\n",
        "    # Check if the line is a string and not None\n",
        "    if not isinstance(line, str):\n",
        "        return None\n",
        "    # Regex pattern to extract log details\n",
        "    log_pattern = r'(\\d{1,3}\\.\\d{1,3}\\.\\d{1,3}\\.\\d{1,3}) - - \\[(.*?)\\] \"(.*?)\" (\\d{3}) (\\d+|-)'\n",
        "    match = re.match(log_pattern, line)\n",
        "    if match:\n",
        "        ip, timestamp, request, status, size = match.groups()\n",
        "        return (ip, timestamp, request, int(status), int(size) if size.isdigit() else 0)\n",
        "    else:\n",
        "        return None\n",
        "\n",
        "# Step 4: Parse log entries and filter out malformed lines\n",
        "parsed_rdd = log_rdd.map(parse_log_entry).filter(lambda x: x is not None)\n",
        "\n",
        "# Step 5: Perform basic RDD analysis\n",
        "# Count HTTP methods\n",
        "http_method_counts = (\n",
        "    parsed_rdd.map(lambda x: (x[2].split()[0], 1))\n",
        "    .reduceByKey(lambda a, b: a + b)\n",
        "    .collect()\n",
        ")\n",
        "print(\"HTTP Method Counts:\", http_method_counts)\n",
        "\n",
        "# Step 6: Perform advanced RDD analysis\n",
        "# 1. Calculate hourly visit counts per IP\n",
        "hourly_visits = (\n",
        "    parsed_rdd.map(lambda x: ((x[0], x[1].split(\":\")[1]), 1))\n",
        "    .reduceByKey(lambda a, b: a + b)\n",
        "    .collect()\n",
        ")\n",
        "print(\"Hourly Visits per IP:\", hourly_visits)\n",
        "\n",
        "# 2. Find top 10 visited URLs\n",
        "top_10_urls = (\n",
        "    parsed_rdd.map(lambda x: (x[2].split()[1], 1))\n",
        "    .reduceByKey(lambda a, b: a + b)\n",
        "    .sortBy(lambda x: x[1], ascending=False)\n",
        "    .take(10)\n",
        ")\n",
        "print(\"Top 10 Visited URLs:\", top_10_urls)\n",
        "\n",
        "# Step 7: Handle errors or malformed entries for debugging\n",
        "malformed_entries = log_rdd.filter(lambda line: parse_log_entry(line) is None).collect()\n",
        "print(\"Malformed Entries (for debugging):\", malformed_entries)\n",
        "\n",
        "# Step 8: Stop the Spark Session\n",
        "# spark.stop()\n"
      ]
    },
    {
      "cell_type": "markdown",
      "source": [
        "# Data Processing using PySpark RDD\n",
        "\n",
        "Ranjith Biswas 2729781"
      ],
      "metadata": {
        "id": "gWyMtjgLS3d5"
      }
    },
    {
      "cell_type": "code",
      "source": [
        "from pyspark import SparkConf, SparkContext\n",
        "import re\n",
        "\n",
        "# Stop any existing SparkContext\n",
        "if 'sc' in globals():\n",
        "    sc.stop()\n",
        "\n",
        "\n",
        "# Initialize SparkContext\n",
        "\n",
        "conf = SparkConf().setAppName(\"BasicRDDAnalysis\").setMaster(\"local\")\n",
        "sc = SparkContext(conf=conf)\n"
      ],
      "metadata": {
        "id": "n1TpfktuS6yu"
      },
      "execution_count": 108,
      "outputs": []
    },
    {
      "cell_type": "code",
      "source": [
        "# Load the log file\n",
        "rdd_log_data = sc.textFile(\"/content/web.log\")\n",
        "\n"
      ],
      "metadata": {
        "id": "NHYxaNVPLgX6"
      },
      "execution_count": 109,
      "outputs": []
    },
    {
      "cell_type": "markdown",
      "source": [
        "Parse log entries using custom function."
      ],
      "metadata": {
        "id": "HHc-XdDITQ0m"
      }
    },
    {
      "cell_type": "code",
      "source": [
        "# Define a function to parse log entries\n",
        "def parse_log_entry(log_line):\n",
        "    log_pattern = r'(\\d{1,3}\\.\\d{1,3}\\.\\d{1,3}\\.\\d{1,3}) - - \\[(.*?)\\] \"(.*?)\" (\\d{3}) (\\d+|-)'\n",
        "    match = re.match(log_pattern, log_line)\n",
        "    if match:\n",
        "        return {\n",
        "            \"ip\": match.group(1),\n",
        "            \"timestamp\": match.group(2),\n",
        "            \"request\": match.group(3),\n",
        "            \"status\": int(match.group(4)),\n",
        "            \"response_size\": match.group(5) if match.group(5) != \"-\" else 0,\n",
        "        }\n",
        "    return None\n",
        "\n",
        "# Parse the logs using map\n",
        "parsed_logs_rdd = rdd_log_data.map(parse_log_entry).filter(lambda x: x is not None)\n",
        "print(f\"Total valid log entries: {parsed_logs_rdd.count()}\")\n",
        "\n",
        "\n",
        "# Display the first 10 entries\n",
        "print(\"Parsed logs entries:\")\n",
        "for entry in parsed_logs_rdd.take(10):\n",
        "    print(entry)\n"
      ],
      "metadata": {
        "colab": {
          "base_uri": "https://localhost:8080/"
        },
        "id": "1pKUXk1BTy8z",
        "outputId": "ec0f6e05-a3e3-48d1-872b-013216951459"
      },
      "execution_count": 110,
      "outputs": [
        {
          "output_type": "stream",
          "name": "stdout",
          "text": [
            "Total valid log entries: 3000000\n",
            "Parsed logs entries:\n",
            "{'ip': '88.211.105.115', 'timestamp': '04/Mar/2022:14:17:48', 'request': 'POST /history/missions/ HTTP/2.0', 'status': 414, 'response_size': '12456'}\n",
            "{'ip': '144.6.49.142', 'timestamp': '02/Sep/2022:15:16:00', 'request': 'POST /security/firewall/ HTTPS/1.0', 'status': 203, 'response_size': '97126'}\n",
            "{'ip': '231.70.64.145', 'timestamp': '19/Jul/2022:01:31:31', 'request': 'PUT /web-development/countdown/ HTTP/1.0', 'status': 201, 'response_size': '33093'}\n",
            "{'ip': '219.42.234.172', 'timestamp': '08/Feb/2022:11:34:57', 'request': 'POST /networking/technology/ HTTP/1.0', 'status': 415, 'response_size': '68827'}\n",
            "{'ip': '183.173.185.94', 'timestamp': '29/Aug/2023:03:07:11', 'request': 'GET /security/firewall/ HTTP/2.0', 'status': 205, 'response_size': '30374'}\n",
            "{'ip': '164.12.8.113', 'timestamp': '22/May/2023:09:48:25', 'request': 'GET /web-development/technology/ HTTP/1.0', 'status': 200, 'response_size': '14633'}\n",
            "{'ip': '110.98.7.240', 'timestamp': '22/Jan/2023:09:55:54', 'request': 'PUT /history/apollo/ HTTP/2.0', 'status': 204, 'response_size': '63819'}\n",
            "{'ip': '27.182.196.243', 'timestamp': '28/Mar/2022:05:37:59', 'request': 'GET /history/apollo-11/ HTTPS/1.0', 'status': 414, 'response_size': '93885'}\n",
            "{'ip': '123.31.25.147', 'timestamp': '25/Feb/2023:12:03:32', 'request': 'GET /data-analysis/missions/ HTTP/1.0', 'status': 204, 'response_size': '75897'}\n",
            "{'ip': '220.182.78.75', 'timestamp': '22/Dec/2022:12:55:00', 'request': 'GET /history/launch/ HTTP/2.0', 'status': 200, 'response_size': '84446'}\n"
          ]
        }
      ]
    },
    {
      "cell_type": "markdown",
      "source": [
        "b. Extract those entries that you would like to provide basic processing"
      ],
      "metadata": {
        "id": "9J8Xi4P8ZzHN"
      }
    },
    {
      "cell_type": "code",
      "source": [
        "# Extract specific fields from the parsed RDD\n",
        "extracted_rdd = parsed_logs_rdd.map(lambda x: (x[\"ip\"], x[\"timestamp\"], x[\"request\"].split(\" \")[0], x[\"status\"]))\n",
        "print(\"Parsed extracted logs entries:\")\n",
        "# Display the first 10 entries\n",
        "for entry in extracted_rdd.take(10):\n",
        "    print(entry)"
      ],
      "metadata": {
        "colab": {
          "base_uri": "https://localhost:8080/"
        },
        "id": "nQqTeJaIWbqt",
        "outputId": "09fe4f0d-b8e1-414e-a907-41ddf9f01e28"
      },
      "execution_count": 111,
      "outputs": [
        {
          "output_type": "stream",
          "name": "stdout",
          "text": [
            "Parsed extracted logs entries:\n",
            "('88.211.105.115', '04/Mar/2022:14:17:48', 'POST', 414)\n",
            "('144.6.49.142', '02/Sep/2022:15:16:00', 'POST', 203)\n",
            "('231.70.64.145', '19/Jul/2022:01:31:31', 'PUT', 201)\n",
            "('219.42.234.172', '08/Feb/2022:11:34:57', 'POST', 415)\n",
            "('183.173.185.94', '29/Aug/2023:03:07:11', 'GET', 205)\n",
            "('164.12.8.113', '22/May/2023:09:48:25', 'GET', 200)\n",
            "('110.98.7.240', '22/Jan/2023:09:55:54', 'PUT', 204)\n",
            "('27.182.196.243', '28/Mar/2022:05:37:59', 'GET', 414)\n",
            "('123.31.25.147', '25/Feb/2023:12:03:32', 'GET', 204)\n",
            "('220.182.78.75', '22/Dec/2022:12:55:00', 'GET', 200)\n"
          ]
        }
      ]
    },
    {
      "cell_type": "markdown",
      "source": [
        "c. RDD transformation+action operator."
      ],
      "metadata": {
        "id": "EwBGpjTRYoZc"
      }
    },
    {
      "cell_type": "code",
      "source": [
        "# Basic Processing: Extract entries with status code 200\n",
        "status_200_rdd = parsed_logs_rdd.filter(lambda log: log[\"status\"] == 200)\n",
        "print(\"Filtered logs with status 200. Total count:\", status_200_rdd.count())\n",
        "\n",
        "# Display a few sample entries for status code 200\n",
        "print(\"Sample entries with status 200:\")\n",
        "for entry in status_200_rdd.take(5):\n",
        "    print(entry)\n",
        "\n",
        "# Transformation with flatMap: Extract all request URLs\n",
        "def extract_urls(log):\n",
        "    if \"request\" in log and log[\"request\"]:\n",
        "        # Extract URL from the request field\n",
        "        match = re.match(r'^\\w+ (.+?) HTTP', log[\"request\"])\n",
        "        if match:\n",
        "            return [match.group(1)]\n",
        "    return []\n",
        "\n",
        "# Apply flatMap to extract URLs\n",
        "urls_rdd = parsed_logs_rdd.flatMap(extract_urls)\n",
        "unique_urls = urls_rdd.distinct().collect()\n",
        "print(\"Total unique URLs:\", len(unique_urls))\n",
        "print(\"Sample unique URLs:\")\n",
        "for url in unique_urls[:5]:\n",
        "    print(url)\n",
        "\n",
        "# Example Action: Reduce to find the total response size for status code 200\n",
        "total_response_size = status_200_rdd.map(lambda log: int(log[\"response_size\"])).reduce(lambda a, b: a + b)\n",
        "print(\"Total response size for status 200:\", total_response_size)\n",
        "\n"
      ],
      "metadata": {
        "colab": {
          "base_uri": "https://localhost:8080/"
        },
        "id": "vvYrXJspYp3H",
        "outputId": "d9f07d57-9058-4eb4-e2a6-dee75bf2afec"
      },
      "execution_count": 47,
      "outputs": [
        {
          "output_type": "stream",
          "name": "stdout",
          "text": [
            "Filtered logs with status 200. Total count: 214791\n",
            "Sample entries with status 200:\n",
            "{'ip': '164.12.8.113', 'timestamp': '22/May/2023:09:48:25', 'request': 'GET /web-development/technology/ HTTP/1.0', 'status': 200, 'response_size': '14633'}\n",
            "{'ip': '220.182.78.75', 'timestamp': '22/Dec/2022:12:55:00', 'request': 'GET /history/launch/ HTTP/2.0', 'status': 200, 'response_size': '84446'}\n",
            "{'ip': '118.58.75.221', 'timestamp': '04/Sep/2022:12:46:07', 'request': 'POST /data-analysis/apollo-11/ HTTPS/1.0', 'status': 200, 'response_size': '6676'}\n",
            "{'ip': '240.61.130.184', 'timestamp': '09/Feb/2022:08:27:03', 'request': 'PUT /security/firewall/ HTTPS/1.0', 'status': 200, 'response_size': '41452'}\n",
            "{'ip': '202.226.32.118', 'timestamp': '18/Jun/2023:10:16:56', 'request': 'GET /cloud-computing/launch/ HTTPS/1.0', 'status': 200, 'response_size': '29113'}\n",
            "Total unique URLs: 120\n",
            "Sample unique URLs:\n",
            "/security/firewall/\n",
            "/history/apollo-11/\n",
            "/shuttle/data/\n",
            "/web-development/firewall/\n",
            "/machine-learning/apollo-11/\n",
            "Total response size for status 200: 10861065478\n"
          ]
        }
      ]
    },
    {
      "cell_type": "markdown",
      "source": [
        "# Two Advanced RDD Analysis\n",
        "\n",
        "Ranjith Biswas 2729781"
      ],
      "metadata": {
        "id": "y9Xdc6AheBjI"
      }
    },
    {
      "cell_type": "code",
      "source": [
        "def parse_log_entry(line):\n",
        "    try:\n",
        "        pattern = r'(\\d{1,3}\\.\\d{1,3}\\.\\d{1,3}\\.\\d{1,3}) - - \\[(.*?)\\] \"(GET|POST|PUT|DELETE) (.*?) HTTP/.*\" (\\d{3}) (\\d+|-)'\n",
        "        match = re.match(pattern, line)\n",
        "        if match:\n",
        "            ip, timestamp, method, url, status, response_size = match.groups()\n",
        "            return {\n",
        "                \"ip\": ip,\n",
        "                \"timestamp\": timestamp,\n",
        "                \"method\": method,\n",
        "                \"url\": url,\n",
        "                \"status\": int(status),\n",
        "                \"response_size\": int(response_size) if response_size.isdigit() else 0,\n",
        "            }\n",
        "        else:\n",
        "            return None\n",
        "    except Exception as e:\n",
        "        print(f\"Error parsing line: {line} | Error: {e}\")\n",
        "        return None\n",
        "\n",
        "# Parse the log entries and filter out malformed ones\n",
        "parsed_rdd = rdd_log_data.map(parse_log_entry).filter(lambda x: x is not None)\n",
        "\n",
        "# Display the first 10 entries\n",
        "print(\"Parsed logs entries:\")\n",
        "for entry in parsed_rdd.take(10):\n",
        "    print(entry)\n"
      ],
      "metadata": {
        "colab": {
          "base_uri": "https://localhost:8080/"
        },
        "id": "D4TzbLObgS7_",
        "outputId": "79411cb6-78f7-451b-da27-5d0307b9d3e4"
      },
      "execution_count": 116,
      "outputs": [
        {
          "output_type": "stream",
          "name": "stdout",
          "text": [
            "Parsed logs entries:\n",
            "{'ip': '88.211.105.115', 'timestamp': '04/Mar/2022:14:17:48', 'method': 'POST', 'url': '/history/missions/', 'status': 414, 'response_size': 12456}\n",
            "{'ip': '231.70.64.145', 'timestamp': '19/Jul/2022:01:31:31', 'method': 'PUT', 'url': '/web-development/countdown/', 'status': 201, 'response_size': 33093}\n",
            "{'ip': '219.42.234.172', 'timestamp': '08/Feb/2022:11:34:57', 'method': 'POST', 'url': '/networking/technology/', 'status': 415, 'response_size': 68827}\n",
            "{'ip': '183.173.185.94', 'timestamp': '29/Aug/2023:03:07:11', 'method': 'GET', 'url': '/security/firewall/', 'status': 205, 'response_size': 30374}\n",
            "{'ip': '164.12.8.113', 'timestamp': '22/May/2023:09:48:25', 'method': 'GET', 'url': '/web-development/technology/', 'status': 200, 'response_size': 14633}\n",
            "{'ip': '110.98.7.240', 'timestamp': '22/Jan/2023:09:55:54', 'method': 'PUT', 'url': '/history/apollo/', 'status': 204, 'response_size': 63819}\n",
            "{'ip': '123.31.25.147', 'timestamp': '25/Feb/2023:12:03:32', 'method': 'GET', 'url': '/data-analysis/missions/', 'status': 204, 'response_size': 75897}\n",
            "{'ip': '220.182.78.75', 'timestamp': '22/Dec/2022:12:55:00', 'method': 'GET', 'url': '/history/launch/', 'status': 200, 'response_size': 84446}\n",
            "{'ip': '206.186.128.82', 'timestamp': '13/Oct/2023:07:21:13', 'method': 'GET', 'url': '/security/apollo-11/', 'status': 404, 'response_size': 24520}\n",
            "{'ip': '12.33.251.59', 'timestamp': '15/Aug/2022:15:59:37', 'method': 'GET', 'url': '/web-development/data/', 'status': 203, 'response_size': 37029}\n"
          ]
        }
      ]
    },
    {
      "cell_type": "code",
      "source": [
        "# Transformation 1: Calculate hourly visit counts per IP and find top 10 visited URLs\n",
        "def process_hourly_visits_and_urls(rdd):\n",
        "    try:\n",
        "        # Step 1: Group visits by hour using groupByKey\n",
        "        grouped_by_hour = (\n",
        "            rdd.map(lambda entry: (entry[\"timestamp\"].split(':')[1], 1))  # Extract hour as key\n",
        "            .groupByKey()  # Group by hour\n",
        "        )\n",
        "\n",
        "        # Step 2: Calculate the total visits for each hour\n",
        "        hourly_visits = (\n",
        "            grouped_by_hour.mapValues(lambda counts: sum(counts))  # Sum up visits per hour\n",
        "            .sortByKey()  # Sort by hour\n",
        "        )\n",
        "\n",
        "        # Collect hourly visit counts for all 24 hours\n",
        "        hourly_visits_result = hourly_visits.collect()\n",
        "\n",
        "        # Display hourly visits for 24 hours\n",
        "        print(\"\\nHourly Visit Counts for 24 Hours:\")\n",
        "        for hour, count in hourly_visits_result:\n",
        "            print(f\"Hour {hour}: {count} visits\")\n",
        "\n",
        "    except Exception as e:\n",
        "        print(f\"Error during processing hourly visits with groupByKey: {e}\")\n",
        "\n",
        "process_hourly_visits_and_urls(parsed_rdd)\n",
        "\n"
      ],
      "metadata": {
        "colab": {
          "base_uri": "https://localhost:8080/"
        },
        "id": "7kJEHGozOPdm",
        "outputId": "4ad68041-c3af-401f-bdc0-4c351a727e1d"
      },
      "execution_count": 117,
      "outputs": [
        {
          "output_type": "stream",
          "name": "stdout",
          "text": [
            "\n",
            "Hourly Visit Counts for 24 Hours:\n",
            "Hour 00: 83391 visits\n",
            "Hour 01: 83204 visits\n",
            "Hour 02: 83691 visits\n",
            "Hour 03: 83708 visits\n",
            "Hour 04: 83646 visits\n",
            "Hour 05: 83258 visits\n",
            "Hour 06: 83712 visits\n",
            "Hour 07: 83419 visits\n",
            "Hour 08: 83551 visits\n",
            "Hour 09: 83534 visits\n",
            "Hour 10: 83126 visits\n",
            "Hour 11: 82875 visits\n",
            "Hour 12: 83182 visits\n",
            "Hour 13: 83313 visits\n",
            "Hour 14: 83470 visits\n",
            "Hour 15: 83677 visits\n",
            "Hour 16: 83357 visits\n",
            "Hour 17: 83168 visits\n",
            "Hour 18: 83230 visits\n",
            "Hour 19: 83187 visits\n",
            "Hour 20: 83445 visits\n",
            "Hour 21: 83120 visits\n",
            "Hour 22: 83152 visits\n",
            "Hour 23: 83236 visits\n"
          ]
        }
      ]
    },
    {
      "cell_type": "code",
      "source": [
        "# Transformation 3: Distribution of requests per status code and response size stats\n",
        "def process_status_code_distribution_and_response_size(rdd):\n",
        "    try:\n",
        "        # Group by status codes and count the number of requests for each code\n",
        "        status_code_distribution = (\n",
        "            rdd.map(lambda entry: (entry[\"status\"], 1))\n",
        "            .reduceByKey(lambda x, y: x + y)\n",
        "            .sortByKey()\n",
        "        )\n",
        "\n",
        "        # Aggregate total response size and count per URL\n",
        "        response_size_stats = (\n",
        "            rdd.map(lambda entry: (entry[\"url\"], (entry[\"response_size\"], 1)))  # (URL, (response_size, 1))\n",
        "            .aggregateByKey((0, 0),  # Initial value: (sum of response_size, count)\n",
        "                            lambda acc, value: (acc[0] + value[0], acc[1] + value[1]),  # Local combine\n",
        "                            lambda acc1, acc2: (acc1[0] + acc2[0], acc1[1] + acc2[1]))  # Global combine\n",
        "            .mapValues(lambda x: (x[0], x[0] / x[1] if x[1] != 0 else 0))  # (total, average)\n",
        "        )\n",
        "\n",
        "        # Collect and display results\n",
        "        print(\"\\nStatus Code Distribution:\")\n",
        "        for status, count in status_code_distribution.collect():\n",
        "            print(f\"Status {status}: {count} requests\")\n",
        "\n",
        "        print(\"\\nResponse Size Stats Per URL (Total, Average):\")\n",
        "        for url, stats in response_size_stats.take(10):\n",
        "            print(f\"URL: {url}, Total Size: {stats[0]}, Average Size: {stats[1]}\")\n",
        "\n",
        "    except Exception as e:\n",
        "        print(f\"Error during processing status code distribution and response size stats: {e}\")\n",
        "\n",
        "process_status_code_distribution_and_response_size(parsed_rdd)"
      ],
      "metadata": {
        "colab": {
          "base_uri": "https://localhost:8080/"
        },
        "id": "Q6t6bb1BV7wa",
        "outputId": "6d74129b-0e42-42e4-e677-46e48f4e9646"
      },
      "execution_count": 74,
      "outputs": [
        {
          "output_type": "stream",
          "name": "stdout",
          "text": [
            "\n",
            "Status Code Distribution:\n",
            "Status 200: 143281 requests\n",
            "Status 201: 143297 requests\n",
            "Status 202: 143188 requests\n",
            "Status 203: 142909 requests\n",
            "Status 204: 142443 requests\n",
            "Status 205: 143010 requests\n",
            "Status 304: 142592 requests\n",
            "Status 307: 142467 requests\n",
            "Status 308: 142990 requests\n",
            "Status 404: 143344 requests\n",
            "Status 414: 142972 requests\n",
            "Status 415: 142861 requests\n",
            "Status 416: 142711 requests\n",
            "Status 500: 142587 requests\n",
            "\n",
            "Response Size Stats Per URL (Total, Average):\n",
            "URL: /security/firewall/, Total Size: 846773056, Average Size: 50774.90292018948\n",
            "URL: /web-development/firewall/, Total Size: 835473728, Average Size: 50454.358838094086\n",
            "URL: /history/apollo-11/, Total Size: 830469280, Average Size: 50653.81396767307\n",
            "URL: /machine-learning/technology/, Total Size: 827970256, Average Size: 50271.41809350334\n",
            "URL: /web-development/deep-learning/, Total Size: 849522171, Average Size: 50627.06620977354\n",
            "URL: /machine-learning/apollo-11/, Total Size: 843659587, Average Size: 50706.7909003486\n",
            "URL: /security/launch/, Total Size: 832971112, Average Size: 50351.877652179166\n",
            "URL: /software/data/, Total Size: 851125380, Average Size: 50199.07873783544\n",
            "URL: /shuttle/data/, Total Size: 842083220, Average Size: 50424.14491017964\n",
            "URL: /images/firewall/, Total Size: 833082517, Average Size: 50255.32466670688\n"
          ]
        }
      ]
    },
    {
      "cell_type": "markdown",
      "source": [
        "Krupa\n",
        "\n",
        "Basic RDD Analysis"
      ],
      "metadata": {
        "id": "1gs810jTmyfY"
      }
    },
    {
      "cell_type": "code",
      "source": [
        "# Regex pattern to extract required fields: IP, Timestamp, Method, URL, Status, Size\n",
        "log_pattern = r'(\\d{1,3}\\.\\d{1,3}\\.\\d{1,3}\\.\\d{1,3}) - - \\[(.*?)\\] \"(GET|POST|PUT|DELETE) (.*?) HTTP/.*\" (\\d{3}) (\\d+|-)'\n",
        "\n",
        "# Function to parse log entries\n",
        "def parse_log_entry(line):\n",
        "    match = re.match(log_pattern, line)\n",
        "    if match:\n",
        "        ip, timestamp, method, url, status, response_size = match.groups()\n",
        "        return {\n",
        "            \"ip\": ip,\n",
        "            \"timestamp\": timestamp,\n",
        "            \"method\": method,\n",
        "            \"url\": url,\n",
        "            \"status\": int(status),\n",
        "            \"response_size\": int(response_size) if response_size.isdigit() else 0,\n",
        "        }\n",
        "    else:\n",
        "        return None  # Handle malformed entries\n",
        "\n",
        "# Parse log lines and filter out invalid lines\n",
        "parsed_logs = rdd_log_data.map(parse_log_entry).filter(lambda x: x is not None)\n",
        "\n",
        "# Display the first 10 entries\n",
        "print(\"Parsed logs entries:\")\n",
        "for entry in parsed_logs.take(10):\n",
        "    print(entry)\n",
        "\n"
      ],
      "metadata": {
        "colab": {
          "base_uri": "https://localhost:8080/"
        },
        "id": "waLITOgtn-q0",
        "outputId": "0d9e181e-0541-4862-f308-5d4c5a7b45b4"
      },
      "execution_count": 118,
      "outputs": [
        {
          "output_type": "stream",
          "name": "stdout",
          "text": [
            "Parsed logs entries:\n",
            "{'ip': '88.211.105.115', 'timestamp': '04/Mar/2022:14:17:48', 'method': 'POST', 'url': '/history/missions/', 'status': 414, 'response_size': 12456}\n",
            "{'ip': '231.70.64.145', 'timestamp': '19/Jul/2022:01:31:31', 'method': 'PUT', 'url': '/web-development/countdown/', 'status': 201, 'response_size': 33093}\n",
            "{'ip': '219.42.234.172', 'timestamp': '08/Feb/2022:11:34:57', 'method': 'POST', 'url': '/networking/technology/', 'status': 415, 'response_size': 68827}\n",
            "{'ip': '183.173.185.94', 'timestamp': '29/Aug/2023:03:07:11', 'method': 'GET', 'url': '/security/firewall/', 'status': 205, 'response_size': 30374}\n",
            "{'ip': '164.12.8.113', 'timestamp': '22/May/2023:09:48:25', 'method': 'GET', 'url': '/web-development/technology/', 'status': 200, 'response_size': 14633}\n",
            "{'ip': '110.98.7.240', 'timestamp': '22/Jan/2023:09:55:54', 'method': 'PUT', 'url': '/history/apollo/', 'status': 204, 'response_size': 63819}\n",
            "{'ip': '123.31.25.147', 'timestamp': '25/Feb/2023:12:03:32', 'method': 'GET', 'url': '/data-analysis/missions/', 'status': 204, 'response_size': 75897}\n",
            "{'ip': '220.182.78.75', 'timestamp': '22/Dec/2022:12:55:00', 'method': 'GET', 'url': '/history/launch/', 'status': 200, 'response_size': 84446}\n",
            "{'ip': '206.186.128.82', 'timestamp': '13/Oct/2023:07:21:13', 'method': 'GET', 'url': '/security/apollo-11/', 'status': 404, 'response_size': 24520}\n",
            "{'ip': '12.33.251.59', 'timestamp': '15/Aug/2022:15:59:37', 'method': 'GET', 'url': '/web-development/data/', 'status': 203, 'response_size': 37029}\n"
          ]
        }
      ]
    },
    {
      "cell_type": "code",
      "source": [
        "# Step 2: Use flatMap to emit multiple data points for URLs and status codes\n",
        "flat_mapped_rdd = parsed_logs.flatMap(lambda entry: [\n",
        "    (entry[\"status\"], 1),  # Status code for counting\n",
        "    (entry[\"url\"], 1)      # URL for visit count\n",
        "])\n",
        "\n",
        "# Step 3: Reduce by key to aggregate counts\n",
        "aggregated_rdd = flat_mapped_rdd.reduceByKey(lambda x, y: x + y)\n",
        "\n",
        "# Step 4: Use map to transform the aggregated RDD for display purposes\n",
        "mapped_rdd = aggregated_rdd.map(lambda x: (x[0], x[1]))\n",
        "\n",
        "# Step 5: Separate status code counts and URL counts\n",
        "status_counts = mapped_rdd.filter(lambda x: isinstance(x[0], int))\n",
        "url_counts = mapped_rdd.filter(lambda x: isinstance(x[0], str))\n",
        "\n",
        "# Step 6: Get top 10 status codes\n",
        "top_status_codes = status_counts.sortBy(lambda x: x[1], ascending=False).take(10)\n",
        "\n",
        "# Step 7: Get top 10 URLs\n",
        "top_urls = url_counts.sortBy(lambda x: x[1], ascending=False).take(10)\n",
        "\n",
        "# Display the top 10 status codes\n",
        "print(\"\\nTop 10 Status Codes:\")\n",
        "for status, count in top_status_codes:\n",
        "    print(f\"Status Code: {status}, Count: {count}\")\n",
        "\n",
        "# Display the top 10 URLs\n",
        "print(\"\\nTop 10 Visited URLs:\")\n",
        "for url, count in top_urls:\n",
        "    print(f\"URL: {url}, Count: {count}\")\n"
      ],
      "metadata": {
        "colab": {
          "base_uri": "https://localhost:8080/"
        },
        "id": "LWxkXcfDorWR",
        "outputId": "3b7232d3-1c61-44d8-9bf5-5898292d0e62"
      },
      "execution_count": 86,
      "outputs": [
        {
          "output_type": "stream",
          "name": "stdout",
          "text": [
            "\n",
            "Top 10 Status Codes:\n",
            "Status Code: 404, Count: 143344\n",
            "Status Code: 201, Count: 143297\n",
            "Status Code: 200, Count: 143281\n",
            "Status Code: 202, Count: 143188\n",
            "Status Code: 205, Count: 143010\n",
            "Status Code: 308, Count: 142990\n",
            "Status Code: 414, Count: 142972\n",
            "Status Code: 203, Count: 142909\n",
            "Status Code: 415, Count: 142861\n",
            "Status Code: 416, Count: 142711\n",
            "\n",
            "Top 10 Visited URLs:\n",
            "URL: /software/data/, Count: 16955\n",
            "URL: /web-development/missions/, Count: 16946\n",
            "URL: /software/technology/, Count: 16928\n",
            "URL: /security/technology/, Count: 16921\n",
            "URL: /data-analysis/technology/, Count: 16919\n",
            "URL: /data-analysis/apollo/, Count: 16912\n",
            "URL: /security/aws-certification/, Count: 16900\n",
            "URL: /machine-learning/countdown/, Count: 16895\n",
            "URL: /images/apollo/, Count: 16889\n",
            "URL: /networking/deep-learning/, Count: 16889\n"
          ]
        }
      ]
    },
    {
      "cell_type": "markdown",
      "source": [
        "Two Advanced RDD Analysis"
      ],
      "metadata": {
        "id": "57F7k0-w1jy9"
      }
    },
    {
      "cell_type": "code",
      "source": [
        "# Function to parse log entries\n",
        "def parse_log_entry(line):\n",
        "    match = re.match(log_pattern, line)\n",
        "    if match:\n",
        "        ip, timestamp, method, url, status, response_size = match.groups()\n",
        "        return {\n",
        "            \"ip\": ip,\n",
        "            \"timestamp\": timestamp,\n",
        "            \"method\": method,\n",
        "            \"url\": url,\n",
        "            \"status\": int(status),\n",
        "            \"response_size\": int(response_size) if response_size.isdigit() else 0,\n",
        "        }\n",
        "    else:\n",
        "        return None\n",
        "\n",
        "parsed_rdd = rdd_log_data.map(parse_log_entry).filter(lambda x: x is not None)\n",
        "\n",
        "# Display a few parsed entries\n",
        "print(\"\\nParsed Log Entries (First 5):\")\n",
        "for record in parsed_rdd.take(5):\n",
        "    print(record)\n"
      ],
      "metadata": {
        "colab": {
          "base_uri": "https://localhost:8080/"
        },
        "id": "Qlw3HG4Y1xMn",
        "outputId": "afe6b864-56e6-44a1-8765-a78d35106da7"
      },
      "execution_count": 92,
      "outputs": [
        {
          "output_type": "stream",
          "name": "stdout",
          "text": [
            "\n",
            "Parsed Log Entries (First 5):\n",
            "{'ip': '88.211.105.115', 'timestamp': '04/Mar/2022:14:17:48', 'method': 'POST', 'url': '/history/missions/', 'status': 414, 'response_size': 12456}\n",
            "{'ip': '231.70.64.145', 'timestamp': '19/Jul/2022:01:31:31', 'method': 'PUT', 'url': '/web-development/countdown/', 'status': 201, 'response_size': 33093}\n",
            "{'ip': '219.42.234.172', 'timestamp': '08/Feb/2022:11:34:57', 'method': 'POST', 'url': '/networking/technology/', 'status': 415, 'response_size': 68827}\n",
            "{'ip': '183.173.185.94', 'timestamp': '29/Aug/2023:03:07:11', 'method': 'GET', 'url': '/security/firewall/', 'status': 205, 'response_size': 30374}\n",
            "{'ip': '164.12.8.113', 'timestamp': '22/May/2023:09:48:25', 'method': 'GET', 'url': '/web-development/technology/', 'status': 200, 'response_size': 14633}\n"
          ]
        }
      ]
    },
    {
      "cell_type": "code",
      "source": [
        "# -----------------------------------------\n",
        "# Transformation 1: Average Response Size Per Status Code (using aggregateByKey)\n",
        "# -----------------------------------------\n",
        "# Map entries to (status_code, (response_size, 1)) for aggregation\n",
        "response_size_per_status = (\n",
        "    parsed_rdd\n",
        "    .map(lambda entry: (entry[\"status\"], (entry[\"response_size\"], 1)))  # Key: Status Code, Value: (Response Size, Count)\n",
        "    .aggregateByKey((0, 0),  # Initialize (total_size, count)\n",
        "                    lambda a, b: (a[0] + b[0], a[1] + b[1]),  # Local aggregation: sum size and count\n",
        "                    lambda a, b: (a[0] + b[0], a[1] + b[1]))  # Global aggregation: sum size and count\n",
        "    .mapValues(lambda x: x[0] / x[1])  # Calculate average response size\n",
        "    .sortByKey()  # Sort by status code\n",
        ")\n",
        "\n",
        "# Display Average Response Size Per Status Code\n",
        "print(\"\\nAverage Response Size Per Status Code:\")\n",
        "for status, avg_size in response_size_per_status.collect():\n",
        "    print(f\"Status: {status}, Avg Response Size: {avg_size:.2f}\")\n"
      ],
      "metadata": {
        "colab": {
          "base_uri": "https://localhost:8080/"
        },
        "id": "3cVHouNV21Px",
        "outputId": "4f52cb9b-66a9-4531-9c71-39622199fdc9"
      },
      "execution_count": 94,
      "outputs": [
        {
          "output_type": "stream",
          "name": "stdout",
          "text": [
            "\n",
            "Average Response Size Per Status Code:\n",
            "Status: 200, Avg Response Size: 50555.35\n",
            "Status: 201, Avg Response Size: 50521.25\n",
            "Status: 202, Avg Response Size: 50433.92\n",
            "Status: 203, Avg Response Size: 50390.94\n",
            "Status: 204, Avg Response Size: 50398.57\n",
            "Status: 205, Avg Response Size: 50489.93\n",
            "Status: 304, Avg Response Size: 50525.72\n",
            "Status: 307, Avg Response Size: 50393.59\n",
            "Status: 308, Avg Response Size: 50587.61\n",
            "Status: 404, Avg Response Size: 50552.18\n",
            "Status: 414, Avg Response Size: 50545.51\n",
            "Status: 415, Avg Response Size: 50441.75\n",
            "Status: 416, Avg Response Size: 50580.13\n",
            "Status: 500, Avg Response Size: 50564.21\n"
          ]
        }
      ]
    },
    {
      "cell_type": "code",
      "source": [
        "# -----------------------------------------\n",
        "# Transformation 2: Top 5 Most Active IPs by Request Count (using groupByKey and reduceByKey)\n",
        "# -----------------------------------------\n",
        "# Map entries to (IP, 1) for counting requests\n",
        "request_count_per_ip = (\n",
        "    parsed_rdd\n",
        "    .map(lambda entry: (entry[\"ip\"], 1))  # Key: IP, Value: 1\n",
        "    .groupByKey()  # Group values by IP\n",
        "    .mapValues(lambda values: sum(values))  # Sum up all request counts per IP\n",
        "    .sortBy(lambda x: x[1], ascending=False)  # Sort by request count in descending order\n",
        ")\n",
        "\n",
        "# Display Top 5 Most Active IPs\n",
        "print(\"\\nTop 5 Most Active IPs by Request Count:\")\n",
        "for ip, count in request_count_per_ip.take(5):\n",
        "    print(f\"IP: {ip}, Request Count: {count}\")"
      ],
      "metadata": {
        "colab": {
          "base_uri": "https://localhost:8080/"
        },
        "id": "0smaO__D3cW3",
        "outputId": "1b6ba85e-7dc3-4ee4-f7c7-07735ef6b570"
      },
      "execution_count": 97,
      "outputs": [
        {
          "output_type": "stream",
          "name": "stdout",
          "text": [
            "\n",
            "Top 5 Most Active IPs by Request Count:\n",
            "IP: 225.2.68.42, Request Count: 2\n",
            "IP: 190.63.218.54, Request Count: 2\n",
            "IP: 94.197.23.111, Request Count: 2\n",
            "IP: 11.161.68.4, Request Count: 2\n",
            "IP: 147.243.61.67, Request Count: 2\n"
          ]
        }
      ]
    },
    {
      "cell_type": "markdown",
      "source": [
        "Ragini\n",
        "\n"
      ],
      "metadata": {
        "id": "CALLlvic707K"
      }
    },
    {
      "cell_type": "code",
      "source": [
        "# Function to parse log entries with regex and handle malformed entries\n",
        "def parse_log_entry(line):\n",
        "    # Regex pattern to extract fields: IP, method, status, message\n",
        "    pattern = r'(\\d{1,3}\\.\\d{1,3}\\.\\d{1,3}\\.\\d{1,3}) - - .* \"(GET|POST|PUT|DELETE).*\" (\\d{3}) (.*)'\n",
        "    match = re.match(pattern, line)\n",
        "    if match:\n",
        "        ip, method, status, message = match.groups()\n",
        "        return {\n",
        "            \"ip\": ip,\n",
        "            \"method\": method,\n",
        "            \"status\": int(status),\n",
        "            \"message\": message.strip()\n",
        "        }\n",
        "    else:\n",
        "        return None  # Handle malformed entries\n",
        "\n",
        "# Parse the log entries and filter out malformed ones\n",
        "parsed_rdd = rdd_log_data.map(parse_log_entry).filter(lambda x: x is not None)\n",
        "\n",
        "# Display 5 parsed RDD entries\n",
        "print(\"\\nSample Parsed RDD Entries (First 5):\")\n",
        "for entry in parsed_rdd.take(5):\n",
        "    print(entry)"
      ],
      "metadata": {
        "colab": {
          "base_uri": "https://localhost:8080/"
        },
        "id": "0d542fSo73EZ",
        "outputId": "6616e722-0b76-4231-f978-00d9f9aa2881"
      },
      "execution_count": 120,
      "outputs": [
        {
          "output_type": "stream",
          "name": "stdout",
          "text": [
            "\n",
            "Sample Parsed RDD Entries (First 5):\n",
            "{'ip': '88.211.105.115', 'method': 'POST', 'status': 414, 'message': '12456 Caution: System may require attention. Check logs for details.'}\n",
            "{'ip': '144.6.49.142', 'method': 'POST', 'status': 203, 'message': '97126 Warning: Unusual behavior detected. Investigate further.'}\n",
            "{'ip': '231.70.64.145', 'method': 'PUT', 'status': 201, 'message': '33093 Informational message. No action required.'}\n",
            "{'ip': '219.42.234.172', 'method': 'POST', 'status': 415, 'message': '68827 Debug: Detailed system state information.'}\n",
            "{'ip': '183.173.185.94', 'method': 'GET', 'status': 205, 'message': '30374 Warning: Unusual behavior detected. Investigate further.'}\n"
          ]
        }
      ]
    },
    {
      "cell_type": "code",
      "source": [
        "# Transformation: Filter by valid status codes and messages, then group by (status, message)\n",
        "status_message_rdd = (\n",
        "    parsed_rdd\n",
        "    .map(lambda entry: ((entry[\"status\"], entry[\"message\"]), 1))  # Create key as (status, message), value as 1\n",
        "    .reduceByKey(lambda x, y: x + y)  # Count occurrences of each (status, message)\n",
        "    .sortBy(lambda x: x[1], ascending=False)  # Sort by count in descending order\n",
        ")\n",
        "\n",
        "# Action: Extract the top 10 status codes with the same message\n",
        "top_10_status_message = status_message_rdd.take(10)\n",
        "\n",
        "# Display the results\n",
        "print(\"\\nTop 10 Status Codes with Same Message Response:\")\n",
        "for (status, message), count in top_10_status_message:\n",
        "    print(f\"Status: {status}, Message: '{message}', Count: {count}\")\n",
        "\n",
        "# Transformation: FlatMap to extract unique IPs for each status-message combination\n",
        "unique_ips_per_status_message = (\n",
        "    parsed_rdd\n",
        "    .flatMap(lambda entry: [((entry[\"status\"], entry[\"message\"]), entry[\"ip\"])])  # Key: (status, message), Value: IP\n",
        "    .distinct()  # Remove duplicates\n",
        "    .groupByKey()  # Group IPs by (status, message)\n",
        "    .mapValues(list)  # Convert grouped IPs to a list\n",
        ")\n",
        "\n",
        "# Action: Display some unique IPs for a few (status, message) combinations\n",
        "print(\"\\nUnique IPs for Top 3 (Status, Message) Combinations:\")\n",
        "for (status, message), ips in unique_ips_per_status_message.take(3):\n",
        "    print(f\"Status: {status}, Message: '{message}', IPs: {ips}\")\n"
      ],
      "metadata": {
        "colab": {
          "base_uri": "https://localhost:8080/"
        },
        "id": "651dDh94-fTA",
        "outputId": "71f3cf97-d94a-4d1c-c7cc-dcf2a1b6668e"
      },
      "execution_count": 121,
      "outputs": [
        {
          "output_type": "stream",
          "name": "stdout",
          "text": [
            "\n",
            "Top 10 Status Codes with Same Message Response:\n",
            "Status: 307, Message: '62706 Potential issue detected. Please review and address.', Count: 6\n",
            "Status: 414, Message: '76343 Developer Note: Debug logs for troubleshooting.', Count: 5\n",
            "Status: 500, Message: '28125 Debugging information. For developer reference only.', Count: 5\n",
            "Status: 307, Message: '8090 Debug: Detailed system state information.', Count: 5\n",
            "Status: 416, Message: '52310 Warning: Unusual behavior detected. Investigate further.', Count: 5\n",
            "Status: 500, Message: '55319 Debug: Detailed system state information.', Count: 5\n",
            "Status: 205, Message: '17198 Caution: System may require attention. Check logs for details.', Count: 5\n",
            "Status: 415, Message: '57693 Update: Routine status report. All systems functioning.', Count: 5\n",
            "Status: 304, Message: '36065 Debugging information. For developer reference only.', Count: 5\n",
            "Status: 204, Message: '1627 Update: Routine status report. All systems functioning.', Count: 5\n",
            "\n",
            "Unique IPs for Top 3 (Status, Message) Combinations:\n",
            "Status: 200, Message: '5918 Developer Note: Debug logs for troubleshooting.', IPs: ['148.57.229.186']\n",
            "Status: 307, Message: '85985 Potential issue detected. Please review and address.', IPs: ['162.112.189.190']\n",
            "Status: 205, Message: '60742 Developer Note: Debug logs for troubleshooting.', IPs: ['171.155.217.20']\n"
          ]
        }
      ]
    },
    {
      "cell_type": "markdown",
      "source": [
        "Advance RDD"
      ],
      "metadata": {
        "id": "-J1JuYg2OL_K"
      }
    },
    {
      "cell_type": "code",
      "source": [
        "log_pattern = re.compile(r'(\\d+\\.\\d+\\.\\d+\\.\\d+) - - \\[.*?\\] \"(.*?) (.*?) (.*?)\" (\\d+) \\d+ (.*)')\n",
        "\n",
        "def parse_log(line):\n",
        "    match = log_pattern.match(line)\n",
        "    if match:\n",
        "        ip = match.group(1)\n",
        "        method = match.group(2)\n",
        "        status = int(match.group(5))\n",
        "        message = match.group(6)\n",
        "        return {\"ip\": ip, \"method\": method, \"status\": status, \"message\": message}\n",
        "    return None\n",
        "\n",
        "parsed_rdd = rdd_log_data.map(parse_log).filter(lambda x: x is not None)\n",
        "\n",
        "# Display 5 parsed RDD entries\n",
        "print(\"\\nSample Parsed RDD Entries (First 5):\")\n",
        "for entry in parsed_rdd.take(5):\n",
        "    print(entry)"
      ],
      "metadata": {
        "colab": {
          "base_uri": "https://localhost:8080/"
        },
        "id": "H6BbSlYhOLpK",
        "outputId": "3f080953-39c0-4c6f-8682-5be2fead57ae"
      },
      "execution_count": 131,
      "outputs": [
        {
          "output_type": "stream",
          "name": "stdout",
          "text": [
            "\n",
            "Sample Parsed RDD Entries (First 5):\n",
            "{'ip': '88.211.105.115', 'method': 'POST', 'status': 414, 'message': 'Caution: System may require attention. Check logs for details.'}\n",
            "{'ip': '144.6.49.142', 'method': 'POST', 'status': 203, 'message': 'Warning: Unusual behavior detected. Investigate further.'}\n",
            "{'ip': '231.70.64.145', 'method': 'PUT', 'status': 201, 'message': 'Informational message. No action required.'}\n",
            "{'ip': '219.42.234.172', 'method': 'POST', 'status': 415, 'message': 'Debug: Detailed system state information.'}\n",
            "{'ip': '183.173.185.94', 'method': 'GET', 'status': 205, 'message': 'Warning: Unusual behavior detected. Investigate further.'}\n"
          ]
        }
      ]
    },
    {
      "cell_type": "code",
      "source": [
        "# Extract advanced processing entries: (ip, method, status, message)\n",
        "advanced_rdd = parsed_rdd.map(lambda entry: (entry[\"ip\"], entry[\"method\"], entry[\"status\"], entry[\"message\"]))\n",
        "\n",
        "# Transformation 1: Analyze messages by grouping them and counting their occurrences\n",
        "message_analysis = (\n",
        "    advanced_rdd\n",
        "    .map(lambda x: (x[3], 1))  # Map to (message, 1)\n",
        "    .reduceByKey(lambda x, y: x + y)  # Count occurrences of each message\n",
        "    .sortByKey()  # Sort messages alphabetically\n",
        ")\n",
        "\n",
        "# Action: Display top 5 most common messages\n",
        "print(\"\\nMessage Analysis (Top 5 Messages):\")\n",
        "for message, count in message_analysis.take(5):\n",
        "    print(f\"Message: {message}, Count: {count}\")\n"
      ],
      "metadata": {
        "colab": {
          "base_uri": "https://localhost:8080/"
        },
        "id": "OLDmZS7XO1B0",
        "outputId": "cff770a0-323e-42db-d8ba-ea7889b6c971"
      },
      "execution_count": 133,
      "outputs": [
        {
          "output_type": "stream",
          "name": "stdout",
          "text": [
            "\n",
            "Message Analysis (Top 5 Messages):\n",
            "Message: Caution: System may require attention. Check logs for details., Count: 332905\n",
            "Message: Debug: Detailed system state information., Count: 333389\n",
            "Message: Debugging information. For developer reference only., Count: 332188\n",
            "Message: Developer Note: Debug logs for troubleshooting., Count: 333769\n",
            "Message: FYI: System operating within normal parameters., Count: 333579\n"
          ]
        }
      ]
    },
    {
      "cell_type": "code",
      "source": [
        "# New Transformation 1: Top 10 HTTP requests grouped by status for each IP\n",
        "top_requests_by_ip = (\n",
        "    advanced_rdd\n",
        "    .map(lambda x: ((x[0], x[2]), 1))  # Map to ((ip, status), 1)\n",
        "    .reduceByKey(lambda a, b: a + b)  # Reduce to count requests for (ip, status)\n",
        "    .map(lambda x: (x[0][0], (x[0][1], x[1])))  # Map to (ip, (status, count))\n",
        "    .groupByKey()  # Group by IP\n",
        "    .mapValues(lambda values: sorted(values, key=lambda x: -x[1])[:10])  # Sort by count (descending) and take top 10\n",
        ")\n",
        "\n",
        "# Action 1: Display Top 10 HTTP Requests Grouped by Status for Each IP\n",
        "print(\"\\nTop 10 HTTP Requests Grouped by Status for Each IP:\")\n",
        "for ip, status_counts in top_requests_by_ip.collect():\n",
        "    print(f\"IP: {ip}, Top Status Counts: {status_counts}\")\n"
      ],
      "metadata": {
        "id": "k1-kf-XaRulu"
      },
      "execution_count": null,
      "outputs": []
    },
    {
      "cell_type": "code",
      "source": [
        "# Transformation 2: Aggregate and compute statistics using reduceByKey + sortByKey + aggregateByKey\n",
        "# (a) Aggregate statuses using reduceByKey\n",
        "# (b) Compute sum, max, and average statuses using aggregateByKey\n",
        "method_status_aggregation = (\n",
        "    advanced_rdd\n",
        "    .map(lambda x: (x[1], x[2]))  # Map to (method, status)\n",
        "    .reduceByKey(lambda a, b: a + b)  # Combine statuses for each method (sum of statuses)\n",
        "    .mapValues(lambda total: (\"Sum\", total))  # Add a label to distinguish reduceByKey results\n",
        "    .union(  # Combine reduceByKey results with aggregateByKey results\n",
        "        advanced_rdd\n",
        "        .map(lambda x: (x[1], x[2]))  # Map to (method, status)\n",
        "        .aggregateByKey(\n",
        "            (0, float('-inf'), 0),  # Initial value: (sum, max, count)\n",
        "            lambda acc, value: (acc[0] + value, max(acc[1], value), acc[2] + 1),  # Local aggregation\n",
        "            lambda acc1, acc2: (\n",
        "                acc1[0] + acc2[0],  # Combine sums\n",
        "                max(acc1[1], acc2[1]),  # Combine max values\n",
        "                acc1[2] + acc2[2]  # Combine counts\n",
        "            )\n",
        "        )\n",
        "        .mapValues(lambda acc: (\"Aggregate\", acc[0], acc[1], acc[0] / acc[2]))  # Add average calculation (sum, max, avg)\n",
        "    )\n",
        "    .sortByKey()  # Sort results by method\n",
        ")\n",
        "\n",
        "# Action 2: Display status aggregation results\n",
        "print(\"\\nStatus Aggregation by Method (reduceByKey and aggregateByKey):\")\n",
        "for method, stats in method_status_aggregation.collect():\n",
        "    print(f\"Method: {method}, Stats: {stats}\")\n"
      ],
      "metadata": {
        "colab": {
          "base_uri": "https://localhost:8080/"
        },
        "id": "_36HBsecR6xG",
        "outputId": "6a8326bd-033d-40d0-eb6a-3e4bc61270a1"
      },
      "execution_count": 137,
      "outputs": [
        {
          "output_type": "stream",
          "name": "stdout",
          "text": [
            "\n",
            "Status Aggregation by Method (reduceByKey and aggregateByKey):\n",
            "Method: GET, Stats: ('Sum', 306237010)\n",
            "Method: GET, Stats: ('Aggregate', 306237010, 500, 305.9179375910925)\n",
            "Method: POST, Stats: ('Sum', 306175172)\n",
            "Method: POST, Stats: ('Aggregate', 306175172, 500, 306.0206315810516)\n",
            "Method: PUT, Stats: ('Sum', 305415517)\n",
            "Method: PUT, Stats: ('Aggregate', 305415517, 500, 305.88903322342986)\n"
          ]
        }
      ]
    },
    {
      "cell_type": "code",
      "source": [
        "# Transformation 1: Count Requests Per IP and Group Status Codes + Top IPs by Total Response Size\n",
        "ip_requests_and_sizes = (\n",
        "    parsed_rdd\n",
        "    .filter(lambda entry: \"ip\" in entry and \"status\" in entry and \"response_size\" in entry and isinstance(entry[\"response_size\"], (int, float)))  # Validate fields\n",
        "    .map(lambda entry: (entry[\"ip\"], (entry[\"status\"], entry[\"response_size\"])))  # Map to (IP, (status, response_size))\n",
        "    .groupByKey()  # Group by IP to collect status codes and response sizes\n",
        "    .mapValues(lambda values: {\n",
        "        \"total_requests\": len(values),  # Count total requests\n",
        "        \"status_codes\": [v[0] for v in values],  # Extract status codes\n",
        "        \"total_response_size\": sum(v[1] for v in values)  # Sum response sizes\n",
        "    })\n",
        ")\n",
        "\n",
        "# Action: Display 5 IPs with request details\n",
        "print(\"\\nRequests and Status Codes by IP (Sample 5):\")\n",
        "for ip, details in ip_requests_and_sizes.take(5):\n",
        "    print(f\"IP: {ip}, Details: {details}\")\n",
        "\n",
        "# Top IPs by Total Response Size\n",
        "top_ips_by_response_size = (\n",
        "    ip_requests_and_sizes\n",
        "    .map(lambda item: (item[0], item[1][\"total_response_size\"]))  # Map to (IP, total_response_size)\n",
        "    .sortBy(lambda x: x[1], ascending=False)  # Sort by total response size in descending order\n",
        ")\n",
        "\n",
        "# Action: Display Top 5 IPs by Total Response Size\n",
        "print(\"\\nTop 5 IPs by Total Response Size:\")\n",
        "for ip, total_size in top_ips_by_response_size.take(5):\n",
        "    print(f\"IP: {ip}, Total Response Size: {total_size}\")\n",
        "\n",
        "\n",
        "# Transformation 2: Calculate Total and Average Response Size by HTTP Method\n",
        "response_sizes_by_method = (\n",
        "    parsed_rdd\n",
        "    .filter(lambda entry: \"method\" in entry and \"response_size\" in entry and isinstance(entry[\"response_size\"], (int, float)))  # Validate fields\n",
        "    .map(lambda entry: (entry[\"method\"], (entry[\"response_size\"], 1)))  # Map to (method, (response_size, count))\n",
        "    .aggregateByKey(\n",
        "        (0, 0),  # Initial value: (total_response_size, total_count)\n",
        "        lambda acc, value: (acc[0] + value[0], acc[1] + value[1]),  # Local combiner: sum sizes and counts\n",
        "        lambda acc1, acc2: (acc1[0] + acc2[0], acc1[1] + acc2[1])  # Global combiner: sum across partitions\n",
        "    )\n",
        "    .mapValues(lambda x: {\n",
        "        \"total_size\": x[0],  # Total response size\n",
        "        \"average_size\": x[0] / x[1] if x[1] > 0 else 0  # Average response size (avoid division by zero)\n",
        "    })\n",
        ")\n",
        "\n",
        "# Action: Display Total and Average Response Size by HTTP Method\n",
        "print(\"\\nResponse Sizes by HTTP Method:\")\n",
        "for method, stats in response_sizes_by_method.collect():\n",
        "    print(f\"Method: {method}, Total Size: {stats['total_size']}, Average Size: {stats['average_size']:.2f}\")\n"
      ],
      "metadata": {
        "colab": {
          "base_uri": "https://localhost:8080/",
          "height": 561
        },
        "id": "XdYLKIACD6Ol",
        "outputId": "1be69128-5240-4a69-af90-19805577f1bb"
      },
      "execution_count": 135,
      "outputs": [
        {
          "output_type": "stream",
          "name": "stdout",
          "text": [
            "\n",
            "Requests and Status Codes by IP (Sample 5):\n"
          ]
        },
        {
          "output_type": "stream",
          "name": "stderr",
          "text": [
            "ERROR:root:KeyboardInterrupt while sending command.\n",
            "Traceback (most recent call last):\n",
            "  File \"/usr/local/lib/python3.10/dist-packages/py4j/java_gateway.py\", line 1038, in send_command\n",
            "    response = connection.send_command(command)\n",
            "  File \"/usr/local/lib/python3.10/dist-packages/py4j/clientserver.py\", line 511, in send_command\n",
            "    answer = smart_decode(self.stream.readline()[:-1])\n",
            "  File \"/usr/lib/python3.10/socket.py\", line 705, in readinto\n",
            "    return self._sock.recv_into(b)\n",
            "KeyboardInterrupt\n"
          ]
        },
        {
          "output_type": "error",
          "ename": "KeyboardInterrupt",
          "evalue": "",
          "traceback": [
            "\u001b[0;31m---------------------------------------------------------------------------\u001b[0m",
            "\u001b[0;31mKeyboardInterrupt\u001b[0m                         Traceback (most recent call last)",
            "\u001b[0;32m<ipython-input-135-285f62bb5cba>\u001b[0m in \u001b[0;36m<cell line: 16>\u001b[0;34m()\u001b[0m\n\u001b[1;32m     14\u001b[0m \u001b[0;31m# Action: Display 5 IPs with request details\u001b[0m\u001b[0;34m\u001b[0m\u001b[0;34m\u001b[0m\u001b[0m\n\u001b[1;32m     15\u001b[0m \u001b[0mprint\u001b[0m\u001b[0;34m(\u001b[0m\u001b[0;34m\"\\nRequests and Status Codes by IP (Sample 5):\"\u001b[0m\u001b[0;34m)\u001b[0m\u001b[0;34m\u001b[0m\u001b[0;34m\u001b[0m\u001b[0m\n\u001b[0;32m---> 16\u001b[0;31m \u001b[0;32mfor\u001b[0m \u001b[0mip\u001b[0m\u001b[0;34m,\u001b[0m \u001b[0mdetails\u001b[0m \u001b[0;32min\u001b[0m \u001b[0mip_requests_and_sizes\u001b[0m\u001b[0;34m.\u001b[0m\u001b[0mtake\u001b[0m\u001b[0;34m(\u001b[0m\u001b[0;36m5\u001b[0m\u001b[0;34m)\u001b[0m\u001b[0;34m:\u001b[0m\u001b[0;34m\u001b[0m\u001b[0;34m\u001b[0m\u001b[0m\n\u001b[0m\u001b[1;32m     17\u001b[0m     \u001b[0mprint\u001b[0m\u001b[0;34m(\u001b[0m\u001b[0;34mf\"IP: {ip}, Details: {details}\"\u001b[0m\u001b[0;34m)\u001b[0m\u001b[0;34m\u001b[0m\u001b[0;34m\u001b[0m\u001b[0m\n\u001b[1;32m     18\u001b[0m \u001b[0;34m\u001b[0m\u001b[0m\n",
            "\u001b[0;32m/usr/local/lib/python3.10/dist-packages/pyspark/rdd.py\u001b[0m in \u001b[0;36mtake\u001b[0;34m(self, num)\u001b[0m\n\u001b[1;32m   2853\u001b[0m \u001b[0;34m\u001b[0m\u001b[0m\n\u001b[1;32m   2854\u001b[0m             \u001b[0mp\u001b[0m \u001b[0;34m=\u001b[0m \u001b[0mrange\u001b[0m\u001b[0;34m(\u001b[0m\u001b[0mpartsScanned\u001b[0m\u001b[0;34m,\u001b[0m \u001b[0mmin\u001b[0m\u001b[0;34m(\u001b[0m\u001b[0mpartsScanned\u001b[0m \u001b[0;34m+\u001b[0m \u001b[0mnumPartsToTry\u001b[0m\u001b[0;34m,\u001b[0m \u001b[0mtotalParts\u001b[0m\u001b[0;34m)\u001b[0m\u001b[0;34m)\u001b[0m\u001b[0;34m\u001b[0m\u001b[0;34m\u001b[0m\u001b[0m\n\u001b[0;32m-> 2855\u001b[0;31m             \u001b[0mres\u001b[0m \u001b[0;34m=\u001b[0m \u001b[0mself\u001b[0m\u001b[0;34m.\u001b[0m\u001b[0mcontext\u001b[0m\u001b[0;34m.\u001b[0m\u001b[0mrunJob\u001b[0m\u001b[0;34m(\u001b[0m\u001b[0mself\u001b[0m\u001b[0;34m,\u001b[0m \u001b[0mtakeUpToNumLeft\u001b[0m\u001b[0;34m,\u001b[0m \u001b[0mp\u001b[0m\u001b[0;34m)\u001b[0m\u001b[0;34m\u001b[0m\u001b[0;34m\u001b[0m\u001b[0m\n\u001b[0m\u001b[1;32m   2856\u001b[0m \u001b[0;34m\u001b[0m\u001b[0m\n\u001b[1;32m   2857\u001b[0m             \u001b[0mitems\u001b[0m \u001b[0;34m+=\u001b[0m \u001b[0mres\u001b[0m\u001b[0;34m\u001b[0m\u001b[0;34m\u001b[0m\u001b[0m\n",
            "\u001b[0;32m/usr/local/lib/python3.10/dist-packages/pyspark/context.py\u001b[0m in \u001b[0;36mrunJob\u001b[0;34m(self, rdd, partitionFunc, partitions, allowLocal)\u001b[0m\n\u001b[1;32m   2508\u001b[0m         \u001b[0mmappedRDD\u001b[0m \u001b[0;34m=\u001b[0m \u001b[0mrdd\u001b[0m\u001b[0;34m.\u001b[0m\u001b[0mmapPartitions\u001b[0m\u001b[0;34m(\u001b[0m\u001b[0mpartitionFunc\u001b[0m\u001b[0;34m)\u001b[0m\u001b[0;34m\u001b[0m\u001b[0;34m\u001b[0m\u001b[0m\n\u001b[1;32m   2509\u001b[0m         \u001b[0;32massert\u001b[0m \u001b[0mself\u001b[0m\u001b[0;34m.\u001b[0m\u001b[0m_jvm\u001b[0m \u001b[0;32mis\u001b[0m \u001b[0;32mnot\u001b[0m \u001b[0;32mNone\u001b[0m\u001b[0;34m\u001b[0m\u001b[0;34m\u001b[0m\u001b[0m\n\u001b[0;32m-> 2510\u001b[0;31m         \u001b[0msock_info\u001b[0m \u001b[0;34m=\u001b[0m \u001b[0mself\u001b[0m\u001b[0;34m.\u001b[0m\u001b[0m_jvm\u001b[0m\u001b[0;34m.\u001b[0m\u001b[0mPythonRDD\u001b[0m\u001b[0;34m.\u001b[0m\u001b[0mrunJob\u001b[0m\u001b[0;34m(\u001b[0m\u001b[0mself\u001b[0m\u001b[0;34m.\u001b[0m\u001b[0m_jsc\u001b[0m\u001b[0;34m.\u001b[0m\u001b[0msc\u001b[0m\u001b[0;34m(\u001b[0m\u001b[0;34m)\u001b[0m\u001b[0;34m,\u001b[0m \u001b[0mmappedRDD\u001b[0m\u001b[0;34m.\u001b[0m\u001b[0m_jrdd\u001b[0m\u001b[0;34m,\u001b[0m \u001b[0mpartitions\u001b[0m\u001b[0;34m)\u001b[0m\u001b[0;34m\u001b[0m\u001b[0;34m\u001b[0m\u001b[0m\n\u001b[0m\u001b[1;32m   2511\u001b[0m         \u001b[0;32mreturn\u001b[0m \u001b[0mlist\u001b[0m\u001b[0;34m(\u001b[0m\u001b[0m_load_from_socket\u001b[0m\u001b[0;34m(\u001b[0m\u001b[0msock_info\u001b[0m\u001b[0;34m,\u001b[0m \u001b[0mmappedRDD\u001b[0m\u001b[0;34m.\u001b[0m\u001b[0m_jrdd_deserializer\u001b[0m\u001b[0;34m)\u001b[0m\u001b[0;34m)\u001b[0m\u001b[0;34m\u001b[0m\u001b[0;34m\u001b[0m\u001b[0m\n\u001b[1;32m   2512\u001b[0m \u001b[0;34m\u001b[0m\u001b[0m\n",
            "\u001b[0;32m/usr/local/lib/python3.10/dist-packages/py4j/java_gateway.py\u001b[0m in \u001b[0;36m__call__\u001b[0;34m(self, *args)\u001b[0m\n\u001b[1;32m   1319\u001b[0m             \u001b[0mproto\u001b[0m\u001b[0;34m.\u001b[0m\u001b[0mEND_COMMAND_PART\u001b[0m\u001b[0;34m\u001b[0m\u001b[0;34m\u001b[0m\u001b[0m\n\u001b[1;32m   1320\u001b[0m \u001b[0;34m\u001b[0m\u001b[0m\n\u001b[0;32m-> 1321\u001b[0;31m         \u001b[0manswer\u001b[0m \u001b[0;34m=\u001b[0m \u001b[0mself\u001b[0m\u001b[0;34m.\u001b[0m\u001b[0mgateway_client\u001b[0m\u001b[0;34m.\u001b[0m\u001b[0msend_command\u001b[0m\u001b[0;34m(\u001b[0m\u001b[0mcommand\u001b[0m\u001b[0;34m)\u001b[0m\u001b[0;34m\u001b[0m\u001b[0;34m\u001b[0m\u001b[0m\n\u001b[0m\u001b[1;32m   1322\u001b[0m         return_value = get_return_value(\n\u001b[1;32m   1323\u001b[0m             answer, self.gateway_client, self.target_id, self.name)\n",
            "\u001b[0;32m/usr/local/lib/python3.10/dist-packages/py4j/java_gateway.py\u001b[0m in \u001b[0;36msend_command\u001b[0;34m(self, command, retry, binary)\u001b[0m\n\u001b[1;32m   1036\u001b[0m         \u001b[0mconnection\u001b[0m \u001b[0;34m=\u001b[0m \u001b[0mself\u001b[0m\u001b[0;34m.\u001b[0m\u001b[0m_get_connection\u001b[0m\u001b[0;34m(\u001b[0m\u001b[0;34m)\u001b[0m\u001b[0;34m\u001b[0m\u001b[0;34m\u001b[0m\u001b[0m\n\u001b[1;32m   1037\u001b[0m         \u001b[0;32mtry\u001b[0m\u001b[0;34m:\u001b[0m\u001b[0;34m\u001b[0m\u001b[0;34m\u001b[0m\u001b[0m\n\u001b[0;32m-> 1038\u001b[0;31m             \u001b[0mresponse\u001b[0m \u001b[0;34m=\u001b[0m \u001b[0mconnection\u001b[0m\u001b[0;34m.\u001b[0m\u001b[0msend_command\u001b[0m\u001b[0;34m(\u001b[0m\u001b[0mcommand\u001b[0m\u001b[0;34m)\u001b[0m\u001b[0;34m\u001b[0m\u001b[0;34m\u001b[0m\u001b[0m\n\u001b[0m\u001b[1;32m   1039\u001b[0m             \u001b[0;32mif\u001b[0m \u001b[0mbinary\u001b[0m\u001b[0;34m:\u001b[0m\u001b[0;34m\u001b[0m\u001b[0;34m\u001b[0m\u001b[0m\n\u001b[1;32m   1040\u001b[0m                 \u001b[0;32mreturn\u001b[0m \u001b[0mresponse\u001b[0m\u001b[0;34m,\u001b[0m \u001b[0mself\u001b[0m\u001b[0;34m.\u001b[0m\u001b[0m_create_connection_guard\u001b[0m\u001b[0;34m(\u001b[0m\u001b[0mconnection\u001b[0m\u001b[0;34m)\u001b[0m\u001b[0;34m\u001b[0m\u001b[0;34m\u001b[0m\u001b[0m\n",
            "\u001b[0;32m/usr/local/lib/python3.10/dist-packages/py4j/clientserver.py\u001b[0m in \u001b[0;36msend_command\u001b[0;34m(self, command)\u001b[0m\n\u001b[1;32m    509\u001b[0m         \u001b[0;32mtry\u001b[0m\u001b[0;34m:\u001b[0m\u001b[0;34m\u001b[0m\u001b[0;34m\u001b[0m\u001b[0m\n\u001b[1;32m    510\u001b[0m             \u001b[0;32mwhile\u001b[0m \u001b[0;32mTrue\u001b[0m\u001b[0;34m:\u001b[0m\u001b[0;34m\u001b[0m\u001b[0;34m\u001b[0m\u001b[0m\n\u001b[0;32m--> 511\u001b[0;31m                 \u001b[0manswer\u001b[0m \u001b[0;34m=\u001b[0m \u001b[0msmart_decode\u001b[0m\u001b[0;34m(\u001b[0m\u001b[0mself\u001b[0m\u001b[0;34m.\u001b[0m\u001b[0mstream\u001b[0m\u001b[0;34m.\u001b[0m\u001b[0mreadline\u001b[0m\u001b[0;34m(\u001b[0m\u001b[0;34m)\u001b[0m\u001b[0;34m[\u001b[0m\u001b[0;34m:\u001b[0m\u001b[0;34m-\u001b[0m\u001b[0;36m1\u001b[0m\u001b[0;34m]\u001b[0m\u001b[0;34m)\u001b[0m\u001b[0;34m\u001b[0m\u001b[0;34m\u001b[0m\u001b[0m\n\u001b[0m\u001b[1;32m    512\u001b[0m                 \u001b[0mlogger\u001b[0m\u001b[0;34m.\u001b[0m\u001b[0mdebug\u001b[0m\u001b[0;34m(\u001b[0m\u001b[0;34m\"Answer received: {0}\"\u001b[0m\u001b[0;34m.\u001b[0m\u001b[0mformat\u001b[0m\u001b[0;34m(\u001b[0m\u001b[0manswer\u001b[0m\u001b[0;34m)\u001b[0m\u001b[0;34m)\u001b[0m\u001b[0;34m\u001b[0m\u001b[0;34m\u001b[0m\u001b[0m\n\u001b[1;32m    513\u001b[0m                 \u001b[0;31m# Happens when a the other end is dead. There might be an empty\u001b[0m\u001b[0;34m\u001b[0m\u001b[0;34m\u001b[0m\u001b[0m\n",
            "\u001b[0;32m/usr/lib/python3.10/socket.py\u001b[0m in \u001b[0;36mreadinto\u001b[0;34m(self, b)\u001b[0m\n\u001b[1;32m    703\u001b[0m         \u001b[0;32mwhile\u001b[0m \u001b[0;32mTrue\u001b[0m\u001b[0;34m:\u001b[0m\u001b[0;34m\u001b[0m\u001b[0;34m\u001b[0m\u001b[0m\n\u001b[1;32m    704\u001b[0m             \u001b[0;32mtry\u001b[0m\u001b[0;34m:\u001b[0m\u001b[0;34m\u001b[0m\u001b[0;34m\u001b[0m\u001b[0m\n\u001b[0;32m--> 705\u001b[0;31m                 \u001b[0;32mreturn\u001b[0m \u001b[0mself\u001b[0m\u001b[0;34m.\u001b[0m\u001b[0m_sock\u001b[0m\u001b[0;34m.\u001b[0m\u001b[0mrecv_into\u001b[0m\u001b[0;34m(\u001b[0m\u001b[0mb\u001b[0m\u001b[0;34m)\u001b[0m\u001b[0;34m\u001b[0m\u001b[0;34m\u001b[0m\u001b[0m\n\u001b[0m\u001b[1;32m    706\u001b[0m             \u001b[0;32mexcept\u001b[0m \u001b[0mtimeout\u001b[0m\u001b[0;34m:\u001b[0m\u001b[0;34m\u001b[0m\u001b[0;34m\u001b[0m\u001b[0m\n\u001b[1;32m    707\u001b[0m                 \u001b[0mself\u001b[0m\u001b[0;34m.\u001b[0m\u001b[0m_timeout_occurred\u001b[0m \u001b[0;34m=\u001b[0m \u001b[0;32mTrue\u001b[0m\u001b[0;34m\u001b[0m\u001b[0;34m\u001b[0m\u001b[0m\n",
            "\u001b[0;31mKeyboardInterrupt\u001b[0m: "
          ]
        }
      ]
    },
    {
      "cell_type": "code",
      "source": [
        "# -----------------------------------------\n",
        "# Transformation 3: Failed Requests Per Hour (using mapValues and sortByKey)\n",
        "# -----------------------------------------\n",
        "# Extract hour and failed requests\n",
        "failed_requests_per_hour = (\n",
        "    parsed_rdd\n",
        "    .filter(lambda entry: entry[\"status\"] >= 400)  # Filter failed requests (status >= 400)\n",
        "    .map(lambda entry: (entry[\"timestamp\"].split(\":\")[1], 1))  # Key: Hour, Value: 1\n",
        "    .reduceByKey(lambda x, y: x + y)  # Sum failed requests per hour\n",
        "    .sortByKey()  # Sort by hour\n",
        ")\n",
        "\n",
        "# Display Failed Requests Per Hour\n",
        "print(\"\\nFailed Requests Per Hour:\")\n",
        "for hour, count in failed_requests_per_hour.collect():\n",
        "    print(f\"Hour: {hour}, Failed Requests: {count}\")"
      ],
      "metadata": {
        "colab": {
          "base_uri": "https://localhost:8080/",
          "height": 365
        },
        "id": "s9Z4QWcb3w8v",
        "outputId": "15c4216e-cc88-466d-ea72-44f9f0813fb2"
      },
      "execution_count": 129,
      "outputs": [
        {
          "output_type": "error",
          "ename": "AttributeError",
          "evalue": "'NoneType' object has no attribute 'setCallSite'",
          "traceback": [
            "\u001b[0;31m---------------------------------------------------------------------------\u001b[0m",
            "\u001b[0;31mAttributeError\u001b[0m                            Traceback (most recent call last)",
            "\u001b[0;32m<ipython-input-129-ee968b449295>\u001b[0m in \u001b[0;36m<cell line: 6>\u001b[0;34m()\u001b[0m\n\u001b[1;32m      7\u001b[0m     \u001b[0;34m.\u001b[0m\u001b[0mfilter\u001b[0m\u001b[0;34m(\u001b[0m\u001b[0;32mlambda\u001b[0m \u001b[0mentry\u001b[0m\u001b[0;34m:\u001b[0m \u001b[0mentry\u001b[0m\u001b[0;34m[\u001b[0m\u001b[0;34m\"status\"\u001b[0m\u001b[0;34m]\u001b[0m \u001b[0;34m>=\u001b[0m \u001b[0;36m400\u001b[0m\u001b[0;34m)\u001b[0m  \u001b[0;31m# Filter failed requests (status >= 400)\u001b[0m\u001b[0;34m\u001b[0m\u001b[0;34m\u001b[0m\u001b[0m\n\u001b[1;32m      8\u001b[0m     \u001b[0;34m.\u001b[0m\u001b[0mmap\u001b[0m\u001b[0;34m(\u001b[0m\u001b[0;32mlambda\u001b[0m \u001b[0mentry\u001b[0m\u001b[0;34m:\u001b[0m \u001b[0;34m(\u001b[0m\u001b[0mentry\u001b[0m\u001b[0;34m[\u001b[0m\u001b[0;34m\"timestamp\"\u001b[0m\u001b[0;34m]\u001b[0m\u001b[0;34m.\u001b[0m\u001b[0msplit\u001b[0m\u001b[0;34m(\u001b[0m\u001b[0;34m\":\"\u001b[0m\u001b[0;34m)\u001b[0m\u001b[0;34m[\u001b[0m\u001b[0;36m1\u001b[0m\u001b[0;34m]\u001b[0m\u001b[0;34m,\u001b[0m \u001b[0;36m1\u001b[0m\u001b[0;34m)\u001b[0m\u001b[0;34m)\u001b[0m  \u001b[0;31m# Key: Hour, Value: 1\u001b[0m\u001b[0;34m\u001b[0m\u001b[0;34m\u001b[0m\u001b[0m\n\u001b[0;32m----> 9\u001b[0;31m     \u001b[0;34m.\u001b[0m\u001b[0mreduceByKey\u001b[0m\u001b[0;34m(\u001b[0m\u001b[0;32mlambda\u001b[0m \u001b[0mx\u001b[0m\u001b[0;34m,\u001b[0m \u001b[0my\u001b[0m\u001b[0;34m:\u001b[0m \u001b[0mx\u001b[0m \u001b[0;34m+\u001b[0m \u001b[0my\u001b[0m\u001b[0;34m)\u001b[0m  \u001b[0;31m# Sum failed requests per hour\u001b[0m\u001b[0;34m\u001b[0m\u001b[0;34m\u001b[0m\u001b[0m\n\u001b[0m\u001b[1;32m     10\u001b[0m     \u001b[0;34m.\u001b[0m\u001b[0msortByKey\u001b[0m\u001b[0;34m(\u001b[0m\u001b[0;34m)\u001b[0m  \u001b[0;31m# Sort by hour\u001b[0m\u001b[0;34m\u001b[0m\u001b[0;34m\u001b[0m\u001b[0m\n\u001b[1;32m     11\u001b[0m )\n",
            "\u001b[0;32m/usr/local/lib/python3.10/dist-packages/pyspark/rdd.py\u001b[0m in \u001b[0;36mreduceByKey\u001b[0;34m(self, func, numPartitions, partitionFunc)\u001b[0m\n\u001b[1;32m   3550\u001b[0m         \u001b[0;34m[\u001b[0m\u001b[0;34m(\u001b[0m\u001b[0;34m'a'\u001b[0m\u001b[0;34m,\u001b[0m \u001b[0;36m2\u001b[0m\u001b[0;34m)\u001b[0m\u001b[0;34m,\u001b[0m \u001b[0;34m(\u001b[0m\u001b[0;34m'b'\u001b[0m\u001b[0;34m,\u001b[0m \u001b[0;36m1\u001b[0m\u001b[0;34m)\u001b[0m\u001b[0;34m]\u001b[0m\u001b[0;34m\u001b[0m\u001b[0;34m\u001b[0m\u001b[0m\n\u001b[1;32m   3551\u001b[0m         \"\"\"\n\u001b[0;32m-> 3552\u001b[0;31m         \u001b[0;32mreturn\u001b[0m \u001b[0mself\u001b[0m\u001b[0;34m.\u001b[0m\u001b[0mcombineByKey\u001b[0m\u001b[0;34m(\u001b[0m\u001b[0;32mlambda\u001b[0m \u001b[0mx\u001b[0m\u001b[0;34m:\u001b[0m \u001b[0mx\u001b[0m\u001b[0;34m,\u001b[0m \u001b[0mfunc\u001b[0m\u001b[0;34m,\u001b[0m \u001b[0mfunc\u001b[0m\u001b[0;34m,\u001b[0m \u001b[0mnumPartitions\u001b[0m\u001b[0;34m,\u001b[0m \u001b[0mpartitionFunc\u001b[0m\u001b[0;34m)\u001b[0m\u001b[0;34m\u001b[0m\u001b[0;34m\u001b[0m\u001b[0m\n\u001b[0m\u001b[1;32m   3553\u001b[0m \u001b[0;34m\u001b[0m\u001b[0m\n\u001b[1;32m   3554\u001b[0m     \u001b[0;32mdef\u001b[0m \u001b[0mreduceByKeyLocally\u001b[0m\u001b[0;34m(\u001b[0m\u001b[0mself\u001b[0m\u001b[0;34m:\u001b[0m \u001b[0;34m\"RDD[Tuple[K, V]]\"\u001b[0m\u001b[0;34m,\u001b[0m \u001b[0mfunc\u001b[0m\u001b[0;34m:\u001b[0m \u001b[0mCallable\u001b[0m\u001b[0;34m[\u001b[0m\u001b[0;34m[\u001b[0m\u001b[0mV\u001b[0m\u001b[0;34m,\u001b[0m \u001b[0mV\u001b[0m\u001b[0;34m]\u001b[0m\u001b[0;34m,\u001b[0m \u001b[0mV\u001b[0m\u001b[0;34m]\u001b[0m\u001b[0;34m)\u001b[0m \u001b[0;34m->\u001b[0m \u001b[0mDict\u001b[0m\u001b[0;34m[\u001b[0m\u001b[0mK\u001b[0m\u001b[0;34m,\u001b[0m \u001b[0mV\u001b[0m\u001b[0;34m]\u001b[0m\u001b[0;34m:\u001b[0m\u001b[0;34m\u001b[0m\u001b[0;34m\u001b[0m\u001b[0m\n",
            "\u001b[0;32m/usr/local/lib/python3.10/dist-packages/pyspark/rdd.py\u001b[0m in \u001b[0;36mcombineByKey\u001b[0;34m(self, createCombiner, mergeValue, mergeCombiners, numPartitions, partitionFunc)\u001b[0m\n\u001b[1;32m   3985\u001b[0m \u001b[0;34m\u001b[0m\u001b[0m\n\u001b[1;32m   3986\u001b[0m         \u001b[0mlocally_combined\u001b[0m \u001b[0;34m=\u001b[0m \u001b[0mself\u001b[0m\u001b[0;34m.\u001b[0m\u001b[0mmapPartitions\u001b[0m\u001b[0;34m(\u001b[0m\u001b[0mcombineLocally\u001b[0m\u001b[0;34m,\u001b[0m \u001b[0mpreservesPartitioning\u001b[0m\u001b[0;34m=\u001b[0m\u001b[0;32mTrue\u001b[0m\u001b[0;34m)\u001b[0m\u001b[0;34m\u001b[0m\u001b[0;34m\u001b[0m\u001b[0m\n\u001b[0;32m-> 3987\u001b[0;31m         \u001b[0mshuffled\u001b[0m \u001b[0;34m=\u001b[0m \u001b[0mlocally_combined\u001b[0m\u001b[0;34m.\u001b[0m\u001b[0mpartitionBy\u001b[0m\u001b[0;34m(\u001b[0m\u001b[0mnumPartitions\u001b[0m\u001b[0;34m,\u001b[0m \u001b[0mpartitionFunc\u001b[0m\u001b[0;34m)\u001b[0m\u001b[0;34m\u001b[0m\u001b[0;34m\u001b[0m\u001b[0m\n\u001b[0m\u001b[1;32m   3988\u001b[0m \u001b[0;34m\u001b[0m\u001b[0m\n\u001b[1;32m   3989\u001b[0m         \u001b[0;32mdef\u001b[0m \u001b[0m_mergeCombiners\u001b[0m\u001b[0;34m(\u001b[0m\u001b[0miterator\u001b[0m\u001b[0;34m:\u001b[0m \u001b[0mIterable\u001b[0m\u001b[0;34m[\u001b[0m\u001b[0mTuple\u001b[0m\u001b[0;34m[\u001b[0m\u001b[0mK\u001b[0m\u001b[0;34m,\u001b[0m \u001b[0mU\u001b[0m\u001b[0;34m]\u001b[0m\u001b[0;34m]\u001b[0m\u001b[0;34m)\u001b[0m \u001b[0;34m->\u001b[0m \u001b[0mIterable\u001b[0m\u001b[0;34m[\u001b[0m\u001b[0mTuple\u001b[0m\u001b[0;34m[\u001b[0m\u001b[0mK\u001b[0m\u001b[0;34m,\u001b[0m \u001b[0mU\u001b[0m\u001b[0;34m]\u001b[0m\u001b[0;34m]\u001b[0m\u001b[0;34m:\u001b[0m\u001b[0;34m\u001b[0m\u001b[0;34m\u001b[0m\u001b[0m\n",
            "\u001b[0;32m/usr/local/lib/python3.10/dist-packages/pyspark/rdd.py\u001b[0m in \u001b[0;36mpartitionBy\u001b[0;34m(self, numPartitions, partitionFunc)\u001b[0m\n\u001b[1;32m   3894\u001b[0m         \u001b[0;32massert\u001b[0m \u001b[0mself\u001b[0m\u001b[0;34m.\u001b[0m\u001b[0mctx\u001b[0m\u001b[0;34m.\u001b[0m\u001b[0m_jvm\u001b[0m \u001b[0;32mis\u001b[0m \u001b[0;32mnot\u001b[0m \u001b[0;32mNone\u001b[0m\u001b[0;34m\u001b[0m\u001b[0;34m\u001b[0m\u001b[0m\n\u001b[1;32m   3895\u001b[0m \u001b[0;34m\u001b[0m\u001b[0m\n\u001b[0;32m-> 3896\u001b[0;31m         \u001b[0;32mwith\u001b[0m \u001b[0mSCCallSiteSync\u001b[0m\u001b[0;34m(\u001b[0m\u001b[0mself\u001b[0m\u001b[0;34m.\u001b[0m\u001b[0mcontext\u001b[0m\u001b[0;34m)\u001b[0m\u001b[0;34m:\u001b[0m\u001b[0;34m\u001b[0m\u001b[0;34m\u001b[0m\u001b[0m\n\u001b[0m\u001b[1;32m   3897\u001b[0m             \u001b[0mpairRDD\u001b[0m \u001b[0;34m=\u001b[0m \u001b[0mself\u001b[0m\u001b[0;34m.\u001b[0m\u001b[0mctx\u001b[0m\u001b[0;34m.\u001b[0m\u001b[0m_jvm\u001b[0m\u001b[0;34m.\u001b[0m\u001b[0mPairwiseRDD\u001b[0m\u001b[0;34m(\u001b[0m\u001b[0mkeyed\u001b[0m\u001b[0;34m.\u001b[0m\u001b[0m_jrdd\u001b[0m\u001b[0;34m.\u001b[0m\u001b[0mrdd\u001b[0m\u001b[0;34m(\u001b[0m\u001b[0;34m)\u001b[0m\u001b[0;34m)\u001b[0m\u001b[0;34m.\u001b[0m\u001b[0masJavaPairRDD\u001b[0m\u001b[0;34m(\u001b[0m\u001b[0;34m)\u001b[0m\u001b[0;34m\u001b[0m\u001b[0;34m\u001b[0m\u001b[0m\n\u001b[1;32m   3898\u001b[0m             \u001b[0mjpartitioner\u001b[0m \u001b[0;34m=\u001b[0m \u001b[0mself\u001b[0m\u001b[0;34m.\u001b[0m\u001b[0mctx\u001b[0m\u001b[0;34m.\u001b[0m\u001b[0m_jvm\u001b[0m\u001b[0;34m.\u001b[0m\u001b[0mPythonPartitioner\u001b[0m\u001b[0;34m(\u001b[0m\u001b[0mnumPartitions\u001b[0m\u001b[0;34m,\u001b[0m \u001b[0mid\u001b[0m\u001b[0;34m(\u001b[0m\u001b[0mpartitionFunc\u001b[0m\u001b[0;34m)\u001b[0m\u001b[0;34m)\u001b[0m\u001b[0;34m\u001b[0m\u001b[0;34m\u001b[0m\u001b[0m\n",
            "\u001b[0;32m/usr/local/lib/python3.10/dist-packages/pyspark/traceback_utils.py\u001b[0m in \u001b[0;36m__enter__\u001b[0;34m(self)\u001b[0m\n\u001b[1;32m     73\u001b[0m     \u001b[0;32mdef\u001b[0m \u001b[0m__enter__\u001b[0m\u001b[0;34m(\u001b[0m\u001b[0mself\u001b[0m\u001b[0;34m)\u001b[0m\u001b[0;34m:\u001b[0m\u001b[0;34m\u001b[0m\u001b[0;34m\u001b[0m\u001b[0m\n\u001b[1;32m     74\u001b[0m         \u001b[0;32mif\u001b[0m \u001b[0mSCCallSiteSync\u001b[0m\u001b[0;34m.\u001b[0m\u001b[0m_spark_stack_depth\u001b[0m \u001b[0;34m==\u001b[0m \u001b[0;36m0\u001b[0m\u001b[0;34m:\u001b[0m\u001b[0;34m\u001b[0m\u001b[0;34m\u001b[0m\u001b[0m\n\u001b[0;32m---> 75\u001b[0;31m             \u001b[0mself\u001b[0m\u001b[0;34m.\u001b[0m\u001b[0m_context\u001b[0m\u001b[0;34m.\u001b[0m\u001b[0m_jsc\u001b[0m\u001b[0;34m.\u001b[0m\u001b[0msetCallSite\u001b[0m\u001b[0;34m(\u001b[0m\u001b[0mself\u001b[0m\u001b[0;34m.\u001b[0m\u001b[0m_call_site\u001b[0m\u001b[0;34m)\u001b[0m\u001b[0;34m\u001b[0m\u001b[0;34m\u001b[0m\u001b[0m\n\u001b[0m\u001b[1;32m     76\u001b[0m         \u001b[0mSCCallSiteSync\u001b[0m\u001b[0;34m.\u001b[0m\u001b[0m_spark_stack_depth\u001b[0m \u001b[0;34m+=\u001b[0m \u001b[0;36m1\u001b[0m\u001b[0;34m\u001b[0m\u001b[0;34m\u001b[0m\u001b[0m\n\u001b[1;32m     77\u001b[0m \u001b[0;34m\u001b[0m\u001b[0m\n",
            "\u001b[0;31mAttributeError\u001b[0m: 'NoneType' object has no attribute 'setCallSite'"
          ]
        }
      ]
    },
    {
      "cell_type": "code",
      "source": [
        "# Advanced Processing 1: Calculate hourly visit counts per IP\n",
        "hourly_visits_rdd = parsed_logs_rdd.map(lambda log: (\n",
        "    (log[\"ip\"], log[\"timestamp\"].split(\":\")[1]),  # (IP, hour)\n",
        "    1\n",
        ")).reduceByKey(lambda a, b: a + b)\n",
        "\n",
        "print(\"Hourly visit counts per IP (sample):\")\n",
        "for record in hourly_visits_rdd.take(5):\n",
        "    print(record)"
      ],
      "metadata": {
        "colab": {
          "base_uri": "https://localhost:8080/",
          "height": 525
        },
        "id": "yGH6Z8JeeC_0",
        "outputId": "bab4b64a-9e4a-42c7-e3e8-13f9d067876d"
      },
      "execution_count": 130,
      "outputs": [
        {
          "output_type": "stream",
          "name": "stdout",
          "text": [
            "Hourly visit counts per IP (sample):\n"
          ]
        },
        {
          "output_type": "stream",
          "name": "stderr",
          "text": [
            "ERROR:root:KeyboardInterrupt while sending command.\n",
            "Traceback (most recent call last):\n",
            "  File \"/usr/local/lib/python3.10/dist-packages/py4j/java_gateway.py\", line 1038, in send_command\n",
            "    response = connection.send_command(command)\n",
            "  File \"/usr/local/lib/python3.10/dist-packages/py4j/clientserver.py\", line 511, in send_command\n",
            "    answer = smart_decode(self.stream.readline()[:-1])\n",
            "  File \"/usr/lib/python3.10/socket.py\", line 705, in readinto\n",
            "    return self._sock.recv_into(b)\n",
            "KeyboardInterrupt\n"
          ]
        },
        {
          "output_type": "error",
          "ename": "KeyboardInterrupt",
          "evalue": "",
          "traceback": [
            "\u001b[0;31m---------------------------------------------------------------------------\u001b[0m",
            "\u001b[0;31mKeyboardInterrupt\u001b[0m                         Traceback (most recent call last)",
            "\u001b[0;32m<ipython-input-130-92ba1e56ceff>\u001b[0m in \u001b[0;36m<cell line: 8>\u001b[0;34m()\u001b[0m\n\u001b[1;32m      6\u001b[0m \u001b[0;34m\u001b[0m\u001b[0m\n\u001b[1;32m      7\u001b[0m \u001b[0mprint\u001b[0m\u001b[0;34m(\u001b[0m\u001b[0;34m\"Hourly visit counts per IP (sample):\"\u001b[0m\u001b[0;34m)\u001b[0m\u001b[0;34m\u001b[0m\u001b[0;34m\u001b[0m\u001b[0m\n\u001b[0;32m----> 8\u001b[0;31m \u001b[0;32mfor\u001b[0m \u001b[0mrecord\u001b[0m \u001b[0;32min\u001b[0m \u001b[0mhourly_visits_rdd\u001b[0m\u001b[0;34m.\u001b[0m\u001b[0mtake\u001b[0m\u001b[0;34m(\u001b[0m\u001b[0;36m5\u001b[0m\u001b[0;34m)\u001b[0m\u001b[0;34m:\u001b[0m\u001b[0;34m\u001b[0m\u001b[0;34m\u001b[0m\u001b[0m\n\u001b[0m\u001b[1;32m      9\u001b[0m     \u001b[0mprint\u001b[0m\u001b[0;34m(\u001b[0m\u001b[0mrecord\u001b[0m\u001b[0;34m)\u001b[0m\u001b[0;34m\u001b[0m\u001b[0;34m\u001b[0m\u001b[0m\n",
            "\u001b[0;32m/usr/local/lib/python3.10/dist-packages/pyspark/rdd.py\u001b[0m in \u001b[0;36mtake\u001b[0;34m(self, num)\u001b[0m\n\u001b[1;32m   2853\u001b[0m \u001b[0;34m\u001b[0m\u001b[0m\n\u001b[1;32m   2854\u001b[0m             \u001b[0mp\u001b[0m \u001b[0;34m=\u001b[0m \u001b[0mrange\u001b[0m\u001b[0;34m(\u001b[0m\u001b[0mpartsScanned\u001b[0m\u001b[0;34m,\u001b[0m \u001b[0mmin\u001b[0m\u001b[0;34m(\u001b[0m\u001b[0mpartsScanned\u001b[0m \u001b[0;34m+\u001b[0m \u001b[0mnumPartsToTry\u001b[0m\u001b[0;34m,\u001b[0m \u001b[0mtotalParts\u001b[0m\u001b[0;34m)\u001b[0m\u001b[0;34m)\u001b[0m\u001b[0;34m\u001b[0m\u001b[0;34m\u001b[0m\u001b[0m\n\u001b[0;32m-> 2855\u001b[0;31m             \u001b[0mres\u001b[0m \u001b[0;34m=\u001b[0m \u001b[0mself\u001b[0m\u001b[0;34m.\u001b[0m\u001b[0mcontext\u001b[0m\u001b[0;34m.\u001b[0m\u001b[0mrunJob\u001b[0m\u001b[0;34m(\u001b[0m\u001b[0mself\u001b[0m\u001b[0;34m,\u001b[0m \u001b[0mtakeUpToNumLeft\u001b[0m\u001b[0;34m,\u001b[0m \u001b[0mp\u001b[0m\u001b[0;34m)\u001b[0m\u001b[0;34m\u001b[0m\u001b[0;34m\u001b[0m\u001b[0m\n\u001b[0m\u001b[1;32m   2856\u001b[0m \u001b[0;34m\u001b[0m\u001b[0m\n\u001b[1;32m   2857\u001b[0m             \u001b[0mitems\u001b[0m \u001b[0;34m+=\u001b[0m \u001b[0mres\u001b[0m\u001b[0;34m\u001b[0m\u001b[0;34m\u001b[0m\u001b[0m\n",
            "\u001b[0;32m/usr/local/lib/python3.10/dist-packages/pyspark/context.py\u001b[0m in \u001b[0;36mrunJob\u001b[0;34m(self, rdd, partitionFunc, partitions, allowLocal)\u001b[0m\n\u001b[1;32m   2508\u001b[0m         \u001b[0mmappedRDD\u001b[0m \u001b[0;34m=\u001b[0m \u001b[0mrdd\u001b[0m\u001b[0;34m.\u001b[0m\u001b[0mmapPartitions\u001b[0m\u001b[0;34m(\u001b[0m\u001b[0mpartitionFunc\u001b[0m\u001b[0;34m)\u001b[0m\u001b[0;34m\u001b[0m\u001b[0;34m\u001b[0m\u001b[0m\n\u001b[1;32m   2509\u001b[0m         \u001b[0;32massert\u001b[0m \u001b[0mself\u001b[0m\u001b[0;34m.\u001b[0m\u001b[0m_jvm\u001b[0m \u001b[0;32mis\u001b[0m \u001b[0;32mnot\u001b[0m \u001b[0;32mNone\u001b[0m\u001b[0;34m\u001b[0m\u001b[0;34m\u001b[0m\u001b[0m\n\u001b[0;32m-> 2510\u001b[0;31m         \u001b[0msock_info\u001b[0m \u001b[0;34m=\u001b[0m \u001b[0mself\u001b[0m\u001b[0;34m.\u001b[0m\u001b[0m_jvm\u001b[0m\u001b[0;34m.\u001b[0m\u001b[0mPythonRDD\u001b[0m\u001b[0;34m.\u001b[0m\u001b[0mrunJob\u001b[0m\u001b[0;34m(\u001b[0m\u001b[0mself\u001b[0m\u001b[0;34m.\u001b[0m\u001b[0m_jsc\u001b[0m\u001b[0;34m.\u001b[0m\u001b[0msc\u001b[0m\u001b[0;34m(\u001b[0m\u001b[0;34m)\u001b[0m\u001b[0;34m,\u001b[0m \u001b[0mmappedRDD\u001b[0m\u001b[0;34m.\u001b[0m\u001b[0m_jrdd\u001b[0m\u001b[0;34m,\u001b[0m \u001b[0mpartitions\u001b[0m\u001b[0;34m)\u001b[0m\u001b[0;34m\u001b[0m\u001b[0;34m\u001b[0m\u001b[0m\n\u001b[0m\u001b[1;32m   2511\u001b[0m         \u001b[0;32mreturn\u001b[0m \u001b[0mlist\u001b[0m\u001b[0;34m(\u001b[0m\u001b[0m_load_from_socket\u001b[0m\u001b[0;34m(\u001b[0m\u001b[0msock_info\u001b[0m\u001b[0;34m,\u001b[0m \u001b[0mmappedRDD\u001b[0m\u001b[0;34m.\u001b[0m\u001b[0m_jrdd_deserializer\u001b[0m\u001b[0;34m)\u001b[0m\u001b[0;34m)\u001b[0m\u001b[0;34m\u001b[0m\u001b[0;34m\u001b[0m\u001b[0m\n\u001b[1;32m   2512\u001b[0m \u001b[0;34m\u001b[0m\u001b[0m\n",
            "\u001b[0;32m/usr/local/lib/python3.10/dist-packages/py4j/java_gateway.py\u001b[0m in \u001b[0;36m__call__\u001b[0;34m(self, *args)\u001b[0m\n\u001b[1;32m   1319\u001b[0m             \u001b[0mproto\u001b[0m\u001b[0;34m.\u001b[0m\u001b[0mEND_COMMAND_PART\u001b[0m\u001b[0;34m\u001b[0m\u001b[0;34m\u001b[0m\u001b[0m\n\u001b[1;32m   1320\u001b[0m \u001b[0;34m\u001b[0m\u001b[0m\n\u001b[0;32m-> 1321\u001b[0;31m         \u001b[0manswer\u001b[0m \u001b[0;34m=\u001b[0m \u001b[0mself\u001b[0m\u001b[0;34m.\u001b[0m\u001b[0mgateway_client\u001b[0m\u001b[0;34m.\u001b[0m\u001b[0msend_command\u001b[0m\u001b[0;34m(\u001b[0m\u001b[0mcommand\u001b[0m\u001b[0;34m)\u001b[0m\u001b[0;34m\u001b[0m\u001b[0;34m\u001b[0m\u001b[0m\n\u001b[0m\u001b[1;32m   1322\u001b[0m         return_value = get_return_value(\n\u001b[1;32m   1323\u001b[0m             answer, self.gateway_client, self.target_id, self.name)\n",
            "\u001b[0;32m/usr/local/lib/python3.10/dist-packages/py4j/java_gateway.py\u001b[0m in \u001b[0;36msend_command\u001b[0;34m(self, command, retry, binary)\u001b[0m\n\u001b[1;32m   1036\u001b[0m         \u001b[0mconnection\u001b[0m \u001b[0;34m=\u001b[0m \u001b[0mself\u001b[0m\u001b[0;34m.\u001b[0m\u001b[0m_get_connection\u001b[0m\u001b[0;34m(\u001b[0m\u001b[0;34m)\u001b[0m\u001b[0;34m\u001b[0m\u001b[0;34m\u001b[0m\u001b[0m\n\u001b[1;32m   1037\u001b[0m         \u001b[0;32mtry\u001b[0m\u001b[0;34m:\u001b[0m\u001b[0;34m\u001b[0m\u001b[0;34m\u001b[0m\u001b[0m\n\u001b[0;32m-> 1038\u001b[0;31m             \u001b[0mresponse\u001b[0m \u001b[0;34m=\u001b[0m \u001b[0mconnection\u001b[0m\u001b[0;34m.\u001b[0m\u001b[0msend_command\u001b[0m\u001b[0;34m(\u001b[0m\u001b[0mcommand\u001b[0m\u001b[0;34m)\u001b[0m\u001b[0;34m\u001b[0m\u001b[0;34m\u001b[0m\u001b[0m\n\u001b[0m\u001b[1;32m   1039\u001b[0m             \u001b[0;32mif\u001b[0m \u001b[0mbinary\u001b[0m\u001b[0;34m:\u001b[0m\u001b[0;34m\u001b[0m\u001b[0;34m\u001b[0m\u001b[0m\n\u001b[1;32m   1040\u001b[0m                 \u001b[0;32mreturn\u001b[0m \u001b[0mresponse\u001b[0m\u001b[0;34m,\u001b[0m \u001b[0mself\u001b[0m\u001b[0;34m.\u001b[0m\u001b[0m_create_connection_guard\u001b[0m\u001b[0;34m(\u001b[0m\u001b[0mconnection\u001b[0m\u001b[0;34m)\u001b[0m\u001b[0;34m\u001b[0m\u001b[0;34m\u001b[0m\u001b[0m\n",
            "\u001b[0;32m/usr/local/lib/python3.10/dist-packages/py4j/clientserver.py\u001b[0m in \u001b[0;36msend_command\u001b[0;34m(self, command)\u001b[0m\n\u001b[1;32m    509\u001b[0m         \u001b[0;32mtry\u001b[0m\u001b[0;34m:\u001b[0m\u001b[0;34m\u001b[0m\u001b[0;34m\u001b[0m\u001b[0m\n\u001b[1;32m    510\u001b[0m             \u001b[0;32mwhile\u001b[0m \u001b[0;32mTrue\u001b[0m\u001b[0;34m:\u001b[0m\u001b[0;34m\u001b[0m\u001b[0;34m\u001b[0m\u001b[0m\n\u001b[0;32m--> 511\u001b[0;31m                 \u001b[0manswer\u001b[0m \u001b[0;34m=\u001b[0m \u001b[0msmart_decode\u001b[0m\u001b[0;34m(\u001b[0m\u001b[0mself\u001b[0m\u001b[0;34m.\u001b[0m\u001b[0mstream\u001b[0m\u001b[0;34m.\u001b[0m\u001b[0mreadline\u001b[0m\u001b[0;34m(\u001b[0m\u001b[0;34m)\u001b[0m\u001b[0;34m[\u001b[0m\u001b[0;34m:\u001b[0m\u001b[0;34m-\u001b[0m\u001b[0;36m1\u001b[0m\u001b[0;34m]\u001b[0m\u001b[0;34m)\u001b[0m\u001b[0;34m\u001b[0m\u001b[0;34m\u001b[0m\u001b[0m\n\u001b[0m\u001b[1;32m    512\u001b[0m                 \u001b[0mlogger\u001b[0m\u001b[0;34m.\u001b[0m\u001b[0mdebug\u001b[0m\u001b[0;34m(\u001b[0m\u001b[0;34m\"Answer received: {0}\"\u001b[0m\u001b[0;34m.\u001b[0m\u001b[0mformat\u001b[0m\u001b[0;34m(\u001b[0m\u001b[0manswer\u001b[0m\u001b[0;34m)\u001b[0m\u001b[0;34m)\u001b[0m\u001b[0;34m\u001b[0m\u001b[0;34m\u001b[0m\u001b[0m\n\u001b[1;32m    513\u001b[0m                 \u001b[0;31m# Happens when a the other end is dead. There might be an empty\u001b[0m\u001b[0;34m\u001b[0m\u001b[0;34m\u001b[0m\u001b[0m\n",
            "\u001b[0;32m/usr/lib/python3.10/socket.py\u001b[0m in \u001b[0;36mreadinto\u001b[0;34m(self, b)\u001b[0m\n\u001b[1;32m    703\u001b[0m         \u001b[0;32mwhile\u001b[0m \u001b[0;32mTrue\u001b[0m\u001b[0;34m:\u001b[0m\u001b[0;34m\u001b[0m\u001b[0;34m\u001b[0m\u001b[0m\n\u001b[1;32m    704\u001b[0m             \u001b[0;32mtry\u001b[0m\u001b[0;34m:\u001b[0m\u001b[0;34m\u001b[0m\u001b[0;34m\u001b[0m\u001b[0m\n\u001b[0;32m--> 705\u001b[0;31m                 \u001b[0;32mreturn\u001b[0m \u001b[0mself\u001b[0m\u001b[0;34m.\u001b[0m\u001b[0m_sock\u001b[0m\u001b[0;34m.\u001b[0m\u001b[0mrecv_into\u001b[0m\u001b[0;34m(\u001b[0m\u001b[0mb\u001b[0m\u001b[0;34m)\u001b[0m\u001b[0;34m\u001b[0m\u001b[0;34m\u001b[0m\u001b[0m\n\u001b[0m\u001b[1;32m    706\u001b[0m             \u001b[0;32mexcept\u001b[0m \u001b[0mtimeout\u001b[0m\u001b[0;34m:\u001b[0m\u001b[0;34m\u001b[0m\u001b[0;34m\u001b[0m\u001b[0m\n\u001b[1;32m    707\u001b[0m                 \u001b[0mself\u001b[0m\u001b[0;34m.\u001b[0m\u001b[0m_timeout_occurred\u001b[0m \u001b[0;34m=\u001b[0m \u001b[0;32mTrue\u001b[0m\u001b[0;34m\u001b[0m\u001b[0;34m\u001b[0m\u001b[0m\n",
            "\u001b[0;31mKeyboardInterrupt\u001b[0m: "
          ]
        }
      ]
    },
    {
      "cell_type": "code",
      "source": [
        "# Advanced Processing 2: Top 10 visited URLs\n",
        "top_urls_rdd = (\n",
        "    parsed_rdd\n",
        "    .map(lambda entry: (entry[2], 1))  # Extract URL and count\n",
        "    .reduceByKey(lambda x, y: x + y)  # Sum counts\n",
        "    .sortBy(lambda x: x[1], ascending=False)  # Sort by count descending\n",
        ")\n",
        "\n",
        "print(\"Top 10 Visited URLs:\")\n",
        "for record in top_urls_rdd.take(10):\n",
        "    print(record)"
      ],
      "metadata": {
        "id": "GNvsW84ni2WD"
      },
      "execution_count": null,
      "outputs": []
    },
    {
      "cell_type": "code",
      "source": [
        "# Advanced Processing 3: Identify failed requests\n",
        "failed_requests_rdd = parsed_rdd.filter(lambda entry: entry[3] >= 400)\n",
        "\n",
        "print(\"Failed Requests (status >= 400):\")\n",
        "for record in failed_requests_rdd.take(10):\n",
        "    print(record)\n"
      ],
      "metadata": {
        "id": "d_MueqjwjKdG"
      },
      "execution_count": null,
      "outputs": []
    },
    {
      "cell_type": "code",
      "source": [
        "# Advanced Processing 4: Calculate average response size per URL\n",
        "average_response_size_rdd = (\n",
        "    parsed_rdd\n",
        "    .map(lambda entry: (entry[2], (entry[4], 1)))  # URL and (response_size, count)\n",
        "    .reduceByKey(lambda x, y: (x[0] + y[0], x[1] + y[1]))  # Sum sizes and counts\n",
        "    .mapValues(lambda x: x[0] / x[1])  # Calculate average\n",
        ")\n",
        "\n",
        "print(\"Average Response Size Per URL:\")\n",
        "for record in average_response_size_rdd.take(10):\n",
        "    print(record)"
      ],
      "metadata": {
        "id": "2mqcgVonjOqZ"
      },
      "execution_count": null,
      "outputs": []
    },
    {
      "cell_type": "code",
      "source": [
        "from pyspark import SparkConf, SparkContext\n",
        "import re\n",
        "\n",
        "# Stop any existing SparkContext\n",
        "if 'sc' in globals() and sc:\n",
        "    sc.stop()\n",
        "\n",
        "# Initialize Spark Context\n",
        "conf = SparkConf().setAppName(\"CombinedAdvancedRDDProcessing\").setMaster(\"local[*]\")\n",
        "sc = SparkContext(conf=conf)\n",
        "\n",
        "# Function to parse log entries with regex and error handling\n",
        "def parse_log_entry(line):\n",
        "    try:\n",
        "        pattern = r'(\\d{1,3}\\.\\d{1,3}\\.\\d{1,3}\\.\\d{1,3}) - - \\[(.*?)\\] \"(GET|POST|PUT|DELETE) (.*?) HTTP/.*\" (\\d{3}) (\\d+|-)'\n",
        "        match = re.match(pattern, line)\n",
        "        if match:\n",
        "            ip, timestamp, method, url, status, response_size = match.groups()\n",
        "            return {\n",
        "                \"ip\": ip,\n",
        "                \"timestamp\": timestamp,\n",
        "                \"method\": method,\n",
        "                \"url\": url,\n",
        "                \"status\": int(status),\n",
        "                \"response_size\": int(response_size) if response_size.isdigit() else 0,\n",
        "            }\n",
        "        else:\n",
        "            return None\n",
        "    except Exception as e:\n",
        "        print(f\"Error parsing line: {line} | Error: {e}\")\n",
        "        return None\n",
        "\n",
        "# Load the log file\n",
        "log_rdd = sc.textFile(\"/content/web.log\")\n",
        "\n",
        "# Parse the log entries and filter out malformed ones\n",
        "parsed_rdd = log_rdd.map(parse_log_entry).filter(lambda x: x is not None)\n",
        "\n",
        "# Transformation 1: Calculate hourly visit counts per IP and find top 10 visited URLs\n",
        "def process_hourly_visits_and_urls(rdd):\n",
        "    try:\n",
        "        hourly_visits_and_top_urls = (\n",
        "            rdd.flatMap(lambda entry: [\n",
        "                ((entry[\"timestamp\"].split(':')[1], entry[\"ip\"]), 1),  # (hour, IP) -> count\n",
        "                (entry[\"url\"], 1)  # URL -> count\n",
        "            ])\n",
        "            .reduceByKey(lambda x, y: x + y)  # Reduce both sets of data by summing counts\n",
        "        )\n",
        "\n",
        "        # Extract hourly visits and top URLs\n",
        "        hourly_visits = hourly_visits_and_top_urls.filter(lambda x: isinstance(x[0], tuple))\n",
        "        top_urls = hourly_visits_and_top_urls.filter(lambda x: isinstance(x[0], str)).sortBy(lambda x: x[1], ascending=False)\n",
        "\n",
        "        # Display results\n",
        "        print(\"\\nHourly Visit Counts Per IP:\")\n",
        "        for record in hourly_visits.take(10):\n",
        "            print(record)\n",
        "\n",
        "        print(\"\\nTop 10 Visited URLs:\")\n",
        "        for record in top_urls.take(10):\n",
        "            print(record)\n",
        "\n",
        "    except Exception as e:\n",
        "        print(f\"Error during processing hourly visits and top URLs: {e}\")\n",
        "\n",
        "process_hourly_visits_and_urls(parsed_rdd)\n",
        "\n",
        "# Transformation 2: Identify failed requests and calculate average response size per URL\n",
        "def process_failed_requests_and_avg_response(rdd):\n",
        "    try:\n",
        "        failed_requests_and_avg_response = (\n",
        "            rdd.flatMap(lambda entry: [\n",
        "                (\"failed_requests\", 1) if entry[\"status\"] >= 400 else None,  # Count failed requests\n",
        "                (entry[\"url\"], (entry[\"response_size\"], 1))  # URL -> (response_size, count)\n",
        "            ])\n",
        "            .filter(lambda x: x is not None)  # Remove None entries\n",
        "            .reduceByKey(lambda x, y: (x[0] + y[0], x[1] + y[1]) if isinstance(x, tuple) else x + y)  # Aggregate data\n",
        "        )\n",
        "\n",
        "        # Extract failed requests and average response size\n",
        "        failed_requests = failed_requests_and_avg_response.filter(lambda x: x[0] == \"failed_requests\").map(lambda x: x[1])\n",
        "        average_response_size = failed_requests_and_avg_response.filter(lambda x: x[0] != \"failed_requests\").mapValues(lambda x: x[0] / x[1])\n",
        "\n",
        "        # Display results\n",
        "        print(\"\\nFailed Requests (status >= 400):\")\n",
        "        for record in failed_requests.take(10):\n",
        "            print(record)\n",
        "\n",
        "        print(\"\\nAverage Response Size Per URL:\")\n",
        "        for record in average_response_size.take(10):\n",
        "            print(record)\n",
        "\n",
        "    except Exception as e:\n",
        "        print(f\"Error during processing failed requests and average response size: {e}\")\n",
        "\n",
        "process_failed_requests_and_avg_response(parsed_rdd)\n",
        "\n",
        "# Stop Spark Context at the end\n",
        "sc.stop()\n"
      ],
      "metadata": {
        "colab": {
          "base_uri": "https://localhost:8080/"
        },
        "id": "F5rD1rhYOzTo",
        "outputId": "80ed11d3-330d-4bf7-8b04-3e30db72e81c"
      },
      "execution_count": 55,
      "outputs": [
        {
          "output_type": "stream",
          "name": "stdout",
          "text": [
            "\n",
            "Hourly Visit Counts Per IP:\n",
            "(('01', '231.70.64.145'), 1)\n",
            "(('08', '144.143.171.58'), 1)\n",
            "(('02', '5.151.235.222'), 1)\n",
            "(('11', '68.120.145.112'), 1)\n",
            "(('19', '36.247.236.96'), 1)\n",
            "(('10', '155.24.8.49'), 1)\n",
            "(('18', '167.92.19.248'), 1)\n",
            "(('13', '143.167.226.151'), 1)\n",
            "(('02', '16.102.86.143'), 1)\n",
            "(('16', '69.119.138.160'), 1)\n",
            "\n",
            "Top 10 Visited URLs:\n",
            "('/software/data/', 16955)\n",
            "('/web-development/missions/', 16946)\n",
            "('/software/technology/', 16928)\n",
            "('/security/technology/', 16921)\n",
            "('/data-analysis/technology/', 16919)\n",
            "('/data-analysis/apollo/', 16912)\n",
            "('/security/aws-certification/', 16900)\n",
            "('/machine-learning/countdown/', 16895)\n",
            "('/images/apollo/', 16889)\n",
            "('/networking/deep-learning/', 16889)\n",
            "\n",
            "Failed Requests (status >= 400):\n",
            "714475\n",
            "\n",
            "Average Response Size Per URL:\n",
            "('/security/firewall/', 50774.90292018948)\n",
            "('/web-development/firewall/', 50454.358838094086)\n",
            "('/history/apollo-11/', 50653.81396767307)\n",
            "('/machine-learning/technology/', 50271.41809350334)\n",
            "('/web-development/deep-learning/', 50627.06620977354)\n",
            "('/machine-learning/apollo-11/', 50706.7909003486)\n",
            "('/security/launch/', 50351.877652179166)\n",
            "('/software/data/', 50199.07873783544)\n",
            "('/shuttle/data/', 50424.14491017964)\n",
            "('/images/firewall/', 50255.32466670688)\n"
          ]
        }
      ]
    },
    {
      "cell_type": "code",
      "source": [
        "# Install PySpark if not already installed\n",
        "!pip install pyspark\n",
        "\n",
        "# Import required libraries\n",
        "from pyspark import SparkConf, SparkContext\n",
        "import re\n",
        "\n",
        "# Stop any existing SparkContext\n",
        "if 'sc' in globals():\n",
        "    sc.stop()\n",
        "\n",
        "# Initialize Spark Context\n",
        "conf = SparkConf().setAppName(\"Top10StatusCodesWithSameMessage\").setMaster(\"local[*]\")\n",
        "sc = SparkContext(conf=conf)\n",
        "\n",
        "# Function to parse log entries with regex and handle malformed entries\n",
        "def parse_log_entry(line):\n",
        "    # Regex pattern to extract fields: IP, method, status, message\n",
        "    pattern = r'(\\d{1,3}\\.\\d{1,3}\\.\\d{1,3}\\.\\d{1,3}) - - .* \"(GET|POST|PUT|DELETE).*\" (\\d{3}) (.*)'\n",
        "    match = re.match(pattern, line)\n",
        "    if match:\n",
        "        ip, method, status, message = match.groups()\n",
        "        return {\n",
        "            \"ip\": ip,\n",
        "            \"method\": method,\n",
        "            \"status\": int(status),\n",
        "            \"message\": message.strip()\n",
        "        }\n",
        "    else:\n",
        "        return None  # Handle malformed entries\n",
        "\n",
        "# Load the web.log file (replace 'web.log' with your log file path)\n",
        "log_rdd = sc.textFile(\"web.log\")\n",
        "\n",
        "# Parse the log entries and filter out malformed ones\n",
        "parsed_rdd = log_rdd.map(parse_log_entry).filter(lambda x: x is not None)\n",
        "\n",
        "# Transformation: Filter by valid status codes and messages, then group by (status, message)\n",
        "status_message_rdd = (\n",
        "    parsed_rdd\n",
        "    .map(lambda entry: ((entry[\"status\"], entry[\"message\"]), 1))  # Create key as (status, message), value as 1\n",
        "    .reduceByKey(lambda x, y: x + y)  # Count occurrences of each (status, message)\n",
        "    .sortBy(lambda x: x[1], ascending=False)  # Sort by count in descending order\n",
        ")\n",
        "\n",
        "# Action: Extract the top 10 status codes with the same message\n",
        "top_10_status_message = status_message_rdd.take(10)\n",
        "\n",
        "# Display the results\n",
        "print(\"\\nTop 10 Status Codes with Same Message Response:\")\n",
        "for (status, message), count in top_10_status_message:\n",
        "    print(f\"Status: {status}, Message: '{message}', Count: {count}\")\n",
        "\n",
        "# Transformation: FlatMap to extract unique IPs for each status-message combination\n",
        "unique_ips_per_status_message = (\n",
        "    parsed_rdd\n",
        "    .flatMap(lambda entry: [((entry[\"status\"], entry[\"message\"]), entry[\"ip\"])])  # Key: (status, message), Value: IP\n",
        "    .distinct()  # Remove duplicates\n",
        "    .groupByKey()  # Group IPs by (status, message)\n",
        "    .mapValues(list)  # Convert grouped IPs to a list\n",
        ")\n",
        "\n",
        "# Action: Display some unique IPs for a few (status, message) combinations\n",
        "print(\"\\nUnique IPs for Top 3 (Status, Message) Combinations:\")\n",
        "for (status, message), ips in unique_ips_per_status_message.take(3):\n",
        "    print(f\"Status: {status}, Message: '{message}', IPs: {ips}\")\n",
        "\n",
        "# Stop Spark Context at the end\n",
        "sc.stop()\n"
      ],
      "metadata": {
        "colab": {
          "base_uri": "https://localhost:8080/"
        },
        "id": "MJAb4mhA6ylV",
        "outputId": "e4ea4617-3cd1-4374-b0e9-09bec6c6feaf"
      },
      "execution_count": 99,
      "outputs": [
        {
          "output_type": "stream",
          "name": "stdout",
          "text": [
            "Requirement already satisfied: pyspark in /usr/local/lib/python3.10/dist-packages (3.5.3)\n",
            "Requirement already satisfied: py4j==0.10.9.7 in /usr/local/lib/python3.10/dist-packages (from pyspark) (0.10.9.7)\n",
            "^C\n",
            "\n",
            "Top 10 Status Codes with Same Message Response:\n",
            "Status: 307, Message: '62706 Potential issue detected. Please review and address.', Count: 6\n",
            "Status: 414, Message: '76343 Developer Note: Debug logs for troubleshooting.', Count: 5\n",
            "Status: 500, Message: '28125 Debugging information. For developer reference only.', Count: 5\n",
            "Status: 307, Message: '8090 Debug: Detailed system state information.', Count: 5\n",
            "Status: 416, Message: '52310 Warning: Unusual behavior detected. Investigate further.', Count: 5\n",
            "Status: 500, Message: '55319 Debug: Detailed system state information.', Count: 5\n",
            "Status: 205, Message: '17198 Caution: System may require attention. Check logs for details.', Count: 5\n",
            "Status: 415, Message: '57693 Update: Routine status report. All systems functioning.', Count: 5\n",
            "Status: 304, Message: '36065 Debugging information. For developer reference only.', Count: 5\n",
            "Status: 204, Message: '1627 Update: Routine status report. All systems functioning.', Count: 5\n",
            "\n",
            "Unique IPs for Top 3 (Status, Message) Combinations:\n",
            "Status: 200, Message: '5918 Developer Note: Debug logs for troubleshooting.', IPs: ['148.57.229.186']\n",
            "Status: 307, Message: '85985 Potential issue detected. Please review and address.', IPs: ['162.112.189.190']\n",
            "Status: 205, Message: '60742 Developer Note: Debug logs for troubleshooting.', IPs: ['171.155.217.20']\n"
          ]
        }
      ]
    }
  ],
  "metadata": {
    "colab": {
      "provenance": [],
      "include_colab_link": true
    },
    "kernelspec": {
      "display_name": "Python 3",
      "name": "python3"
    },
    "language_info": {
      "name": "python"
    }
  },
  "nbformat": 4,
  "nbformat_minor": 0
}